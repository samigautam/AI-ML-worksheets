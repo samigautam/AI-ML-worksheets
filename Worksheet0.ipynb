{
  "cells": [
    {
      "cell_type": "markdown",
      "source": [
        "Exercices on Functions\n",
        "\n",
        "Task 1:\n",
        "\n",
        "Create a Python program that converts between different units of measurement. • The program should:\n",
        "\n",
        "Prompt the user to choose the type of conversion (e.g., length, weight, volume).\n",
        "Ask the user to input the value to be converted.\n",
        "Perform the conversion and display the result.\n",
        "Handle potential errors, such as invalid input or unsupported conversion types.\n",
        "• Requirements:\n",
        "\n",
        "Functions: Define at least one function to perform the conversion.\n",
        "Error Handling: Use try-except blocks to handle invalid input (e.g., non-numeric values).\n",
        "User Input: Prompt the user to select the conversion type and input the value.\n",
        "Docstrings: Include a docstring in your function to describe its purpose, parameters, and return value.\n",
        "• Conversion Options:\n",
        "\n",
        "Length: – Convert meters (m) to feet (ft). – Convert feet (ft) to meters (m).\n",
        "Weight: – Convert kilograms (kg) to pounds (lbs). – Convert pounds (lbs) to kilograms (kg).\n",
        "Volume: – Convert liters (L) to gallons (gal). – Convert gallons (gal) to liters (L)."
      ],
      "metadata": {
        "id": "ACgrgFEa5RGk"
      },
      "id": "ACgrgFEa5RGk"
    },
    {
      "cell_type": "code",
      "execution_count": 1,
      "id": "26bc3487-110f-45d4-8d3a-2c82177c76aa",
      "metadata": {
        "collapsed": true,
        "jupyter": {
          "outputs_hidden": true
        },
        "colab": {
          "base_uri": "https://localhost:8080/"
        },
        "id": "26bc3487-110f-45d4-8d3a-2c82177c76aa",
        "outputId": "d20a1f74-aa18-4fa7-96fa-ec7eedb98fb5"
      },
      "outputs": [
        {
          "output_type": "stream",
          "name": "stdout",
          "text": [
            "Unit Converter: Choose a conversion type:\n",
            "1. Length (meters to feet / feet to meters)\n",
            "2. Weight (kilograms to pounds / pounds to kilograms)\n",
            "3. Volume (liters to gallons / gallons to liters)\n",
            "Enter your choice (1-3): 2\n",
            "Enter the value to convert: 50\n",
            "Enter the unit (kg/lbs): lbs\n",
            "Converted Value: 22.68 kg\n"
          ]
        }
      ],
      "source": [
        "# Import necessary libraries\n",
        "import time\n",
        "\n",
        "def convert_length(value, unit):\n",
        "    \"\"\"\n",
        "    Convert length between meters and feet.\n",
        "    :param value: Numeric value to be converted\n",
        "    :param unit: The unit of the input value ('m' for meters, 'ft' for feet)\n",
        "    :return: Converted value with appropriate unit\n",
        "    \"\"\"\n",
        "    if unit == 'm':\n",
        "        return value * 3.28084, 'ft'\n",
        "    elif unit == 'ft':\n",
        "        return value / 3.28084, 'm'\n",
        "    else:\n",
        "        raise ValueError(\"Unsupported length unit. Use 'm' for meters or 'ft' for feet.\")\n",
        "\n",
        "def convert_weight(value, unit):\n",
        "    \"\"\"\n",
        "    Convert weight between kilograms and pounds.\n",
        "    :param value: Numeric value to be converted\n",
        "    :param unit: The unit of the input value ('kg' for kilograms, 'lbs' for pounds)\n",
        "    :return: Converted value with appropriate unit\n",
        "    \"\"\"\n",
        "    if unit == 'kg':\n",
        "        return value * 2.20462, 'lbs'\n",
        "    elif unit == 'lbs':\n",
        "        return value / 2.20462, 'kg'\n",
        "    else:\n",
        "        raise ValueError(\"Unsupported weight unit. Use 'kg' for kilograms or 'lbs' for pounds.\")\n",
        "\n",
        "def convert_volume(value, unit):\n",
        "    \"\"\"\n",
        "    Convert volume between liters and gallons.\n",
        "    :param value: Numeric value to be converted\n",
        "    :param unit: The unit of the input value ('L' for liters, 'gal' for gallons)\n",
        "    :return: Converted value with appropriate unit\n",
        "    \"\"\"\n",
        "    if unit == 'L':\n",
        "        return value * 0.264172, 'gal'\n",
        "    elif unit == 'gal':\n",
        "        return value / 0.264172, 'L'\n",
        "    else:\n",
        "        raise ValueError(\"Unsupported volume unit. Use 'L' for liters or 'gal' for gallons.\")\n",
        "\n",
        "def main():\n",
        "    print(\"Unit Converter: Choose a conversion type:\")\n",
        "    print(\"1. Length (meters to feet / feet to meters)\")\n",
        "    print(\"2. Weight (kilograms to pounds / pounds to kilograms)\")\n",
        "    print(\"3. Volume (liters to gallons / gallons to liters)\")\n",
        "\n",
        "    try:\n",
        "        choice = int(input(\"Enter your choice (1-3): \"))\n",
        "        value = float(input(\"Enter the value to convert: \"))\n",
        "\n",
        "        if choice == 1:\n",
        "            unit = input(\"Enter the unit (m/ft): \")\n",
        "            converted_value, converted_unit = convert_length(value, unit)\n",
        "        elif choice == 2:\n",
        "            unit = input(\"Enter the unit (kg/lbs): \")\n",
        "            converted_value, converted_unit = convert_weight(value, unit)\n",
        "        elif choice == 3:\n",
        "            unit = input(\"Enter the unit (L/gal): \")\n",
        "            converted_value, converted_unit = convert_volume(value, unit)\n",
        "        else:\n",
        "            print(\"Invalid choice. Please select a valid option.\")\n",
        "            return\n",
        "\n",
        "        print(f\"Converted Value: {converted_value:.2f} {converted_unit}\")\n",
        "    except ValueError as e:\n",
        "        print(f\"Error: {e}\")\n",
        "    except Exception as e:\n",
        "        print(\"An unexpected error occurred:\", e)\n",
        "\n",
        "if __name__ == \"__main__\":\n",
        "    main()"
      ]
    },
    {
      "cell_type": "markdown",
      "source": [
        "Task - 2:\n",
        "\n",
        "Create a Python program that performs various mathematical operations on a list of numbers. • The Program should:\n",
        "\n",
        "Prompt the user to choose an operation (e.g., find the sum, average, maximum, or minimum of the numbers).\n",
        "Ask the user to input a list of numbers (separated by spaces).\n",
        "Perform the selected operation and display the result.\n",
        "Handle potential errors, such as invalid input or empty lists.\n",
        "• Requirements:\n",
        "\n",
        "Functions: Define at least one function for each operation (sum, average, maximum, mini- mum).\n",
        "\n",
        "Error Handling: Use try-except blocks to handle invalid input (e.g., non-numeric values or empty lists).\n",
        "\n",
        "User Input: Prompt the user to select the operation and input the list of numbers.\n",
        "\n",
        "Docstrings: Include a docstring in each function to describe its purpose, parameters, and return value."
      ],
      "metadata": {
        "id": "jibTQnxI5lRU"
      },
      "id": "jibTQnxI5lRU"
    },
    {
      "cell_type": "code",
      "execution_count": 2,
      "id": "62da73c0-2f5f-490c-b4f8-c14652f5d06f",
      "metadata": {
        "id": "62da73c0-2f5f-490c-b4f8-c14652f5d06f",
        "outputId": "43fc669a-eaa6-4a4b-b17c-56dbce606218",
        "colab": {
          "base_uri": "https://localhost:8080/"
        }
      },
      "outputs": [
        {
          "output_type": "stream",
          "name": "stdout",
          "text": [
            "Choose an operation:\n",
            "1. Sum\n",
            "2. Average\n",
            "3. Maximum\n",
            "4. Minimum\n",
            "Enter the number of the operation: 3\n",
            "Enter numbers separated by spaces: 56 89 43 53 23\n",
            "The maximum of the numbers is: 89.0\n"
          ]
        }
      ],
      "source": [
        "#Task2\n",
        "def calculate_sum(numbers):\n",
        "    \"\"\"Returns the sum of a list of numbers.\"\"\"\n",
        "    return sum(numbers)\n",
        "\n",
        "def calculate_average(numbers):\n",
        "    \"\"\"Returns the average of a list of numbers.\"\"\"\n",
        "    return sum(numbers) / len(numbers) if numbers else 0\n",
        "\n",
        "def find_maximum(numbers):\n",
        "    \"\"\"Returns the maximum value from a list of numbers.\"\"\"\n",
        "    return max(numbers)\n",
        "\n",
        "def find_minimum(numbers):\n",
        "    \"\"\"Returns the minimum value from a list of numbers.\"\"\"\n",
        "    return min(numbers)\n",
        "\n",
        "def main():\n",
        "    \"\"\"Main function to execute the mathematical operations program.\"\"\"\n",
        "    operations = {\n",
        "        '1': ('Sum', calculate_sum),\n",
        "        '2': ('Average', calculate_average),\n",
        "        '3': ('Maximum', find_maximum),\n",
        "        '4': ('Minimum', find_minimum)\n",
        "    }\n",
        "\n",
        "    print(\"Choose an operation:\")\n",
        "    for key, (name, _) in operations.items():\n",
        "        print(f\"{key}. {name}\")\n",
        "\n",
        "    choice = input(\"Enter the number of the operation: \")\n",
        "\n",
        "    if choice not in operations:\n",
        "        print(\"Invalid choice. Please select a valid option.\")\n",
        "        return\n",
        "\n",
        "    try:\n",
        "        numbers = list(map(float, input(\"Enter numbers separated by spaces: \").split()))\n",
        "        if not numbers:\n",
        "            raise ValueError(\"The list cannot be empty.\")\n",
        "\n",
        "        operation_name, operation_func = operations[choice]\n",
        "        result = operation_func(numbers)\n",
        "        print(f\"The {operation_name.lower()} of the numbers is: {result}\")\n",
        "    except ValueError as e:\n",
        "        print(f\"Error: {e}. Please enter valid numeric values.\")\n",
        "\n",
        "if __name__ == \"__main__\":\n",
        "    main()"
      ]
    },
    {
      "cell_type": "markdown",
      "source": [
        "Exercise on List Manipulation:\n",
        "\n",
        "Extract Every Other Element:\n",
        "Write a Python function that extracts every other element from a list, starting from the first element.\n",
        "\n",
        "• Requirements: – Define a function extract every other(lst) that takes a list lst as input and returns a new list containing every other element from the original list.\n",
        "\n",
        "– Example: For the input [1, 2, 3, 4, 5, 6], the output should be [1, 3, 5]."
      ],
      "metadata": {
        "id": "Uu945ruU5qu9"
      },
      "id": "Uu945ruU5qu9"
    },
    {
      "cell_type": "code",
      "execution_count": 3,
      "id": "17732e35-821e-4c2b-9150-f25736a9b92f",
      "metadata": {
        "id": "17732e35-821e-4c2b-9150-f25736a9b92f",
        "outputId": "f5d94622-60fc-4850-86b1-d9b5b820a47d",
        "colab": {
          "base_uri": "https://localhost:8080/"
        }
      },
      "outputs": [
        {
          "output_type": "stream",
          "name": "stdout",
          "text": [
            "[1, 3, 5]\n"
          ]
        }
      ],
      "source": [
        "#Task3\n",
        "def extract_every_other(lst):\n",
        "    \"\"\"\n",
        "    Extracts every other element from the input list, starting from the first element.\n",
        "\n",
        "    Parameters:\n",
        "    lst (list): The input list from which elements are to be extracted.\n",
        "\n",
        "    Returns:\n",
        "    list: A new list containing every other element from the original list.\n",
        "    \"\"\"\n",
        "    return lst[::2]  # Use slicing with a step of 2 to select every second element\n",
        "\n",
        "# Example usage\n",
        "example_list = [1, 2, 3, 4, 5, 6]\n",
        "result = extract_every_other(example_list)\n",
        "print(result)  # Output: [1, 3, 5]\n"
      ]
    },
    {
      "cell_type": "markdown",
      "source": [
        "Slice a Sublist:\n",
        "\n",
        "Write a Python function that returns a sublist from a given list, starting from a specified index and ending at another specified index.\n",
        "\n",
        "• Requirements: – Define a function get sublist(lst, start, end) that takes a list lst, a starting index start, and an ending index end as input and returns the sublist from start to end (inclusive).\n",
        "\n",
        "– Example: For the input [1, 2, 3, 4, 5, 6] with start=2 and end=4, the output should be [3, 4, 5]."
      ],
      "metadata": {
        "id": "k-tzPHaa5wAD"
      },
      "id": "k-tzPHaa5wAD"
    },
    {
      "cell_type": "code",
      "execution_count": 4,
      "id": "ea9d343a-0b4c-41e9-aa29-881d7fdb2ba3",
      "metadata": {
        "id": "ea9d343a-0b4c-41e9-aa29-881d7fdb2ba3",
        "outputId": "4b3e3d3c-24e7-454d-cb20-aefd8da5b254",
        "colab": {
          "base_uri": "https://localhost:8080/"
        }
      },
      "outputs": [
        {
          "output_type": "stream",
          "name": "stdout",
          "text": [
            "[3, 4, 5]\n"
          ]
        }
      ],
      "source": [
        "#Task 4\n",
        "def get_sublist(lst, start, end):\n",
        "    \"\"\"\n",
        "    Returns a sublist from the given list, starting from the specified index and\n",
        "    ending at another specified index (inclusive).\n",
        "\n",
        "    Parameters:\n",
        "    lst (list): The input list from which a sublist is to be extracted.\n",
        "    start (int): The starting index of the sublist.\n",
        "    end (int): The ending index of the sublist (inclusive).\n",
        "\n",
        "    Returns:\n",
        "    list: A sublist containing elements from index start to end (inclusive).\n",
        "    \"\"\"\n",
        "    return lst[start:end+1]  # Use slicing to include the end index\n",
        "\n",
        "# Example usage\n",
        "example_list = [1, 2, 3, 4, 5, 6]\n",
        "result = get_sublist(example_list, 2, 4)\n",
        "print(result)  # Output: [3, 4, 5]\n"
      ]
    },
    {
      "cell_type": "markdown",
      "source": [
        "\n",
        "Reverse a List Using Slicing:\n",
        "\n",
        "Write a Python function that reverses a list using slicing. • Requirements:\n",
        "\n",
        "– Define a function reverse list(lst) that takes a list lst and returns a reversed list using slicing.\n",
        "\n",
        "– Example: For the input [1, 2, 3, 4, 5], the output should be [5, 4, 3, 2, 1]."
      ],
      "metadata": {
        "id": "PjktwTKd51VI"
      },
      "id": "PjktwTKd51VI"
    },
    {
      "cell_type": "code",
      "execution_count": 5,
      "id": "87a2dca6-136e-41d4-9323-9d53a57af670",
      "metadata": {
        "id": "87a2dca6-136e-41d4-9323-9d53a57af670",
        "outputId": "3ca9e146-2cf4-4819-fd38-444ae02a4df3",
        "colab": {
          "base_uri": "https://localhost:8080/"
        }
      },
      "outputs": [
        {
          "output_type": "stream",
          "name": "stdout",
          "text": [
            "[5, 4, 3, 2, 1]\n"
          ]
        }
      ],
      "source": [
        "#Task5\n",
        "def reverse_list(lst):\n",
        "    \"\"\"\n",
        "    Reverses the given list using slicing.\n",
        "\n",
        "    Parameters:\n",
        "    lst (list): The input list to be reversed.\n",
        "\n",
        "    Returns:\n",
        "    list: A new list containing elements in reverse order.\n",
        "    \"\"\"\n",
        "    return lst[::-1]  # Use slicing with a step of -1 to reverse the list\n",
        "\n",
        "# Example usage\n",
        "example_list = [1, 2, 3, 4, 5]\n",
        "result = reverse_list(example_list)\n",
        "print(result)"
      ]
    },
    {
      "cell_type": "markdown",
      "source": [
        "Remove the First and Last Elements:\n",
        "\n",
        "Write a Python function that removes the first and last elements of a list and returns the resulting sublist.\n",
        "\n",
        "• Requirements:\n",
        "\n",
        "– Define a function remove first last(lst) that takes a list lst and returns a sublist without the first and last elements using slicing.\n",
        "\n",
        "– Example: For the input [1, 2, 3, 4, 5], the output should be [2, 3, 4]."
      ],
      "metadata": {
        "id": "T4XUr2Tx54Z4"
      },
      "id": "T4XUr2Tx54Z4"
    },
    {
      "cell_type": "code",
      "execution_count": 6,
      "id": "b829801e-0abf-405c-a66e-5cb0ec56a049",
      "metadata": {
        "id": "b829801e-0abf-405c-a66e-5cb0ec56a049",
        "outputId": "53ec4958-ee70-4491-898f-35121469840a",
        "colab": {
          "base_uri": "https://localhost:8080/"
        }
      },
      "outputs": [
        {
          "output_type": "stream",
          "name": "stdout",
          "text": [
            "[2, 3, 4]\n"
          ]
        }
      ],
      "source": [
        "#Task-6\n",
        "def remove_first_last(lst):\n",
        "    \"\"\"\n",
        "    Removes the first and last elements of the given list and returns the resulting sublist.\n",
        "\n",
        "    Parameters:\n",
        "    lst (list): The input list from which the first and last elements are to be removed.\n",
        "\n",
        "    Returns:\n",
        "    list: A new list without the first and last elements.\n",
        "    \"\"\"\n",
        "    return lst[1:-1]  # Slice from index 1 to the second-last element\n",
        "\n",
        "# Example usage\n",
        "example_list = [1, 2, 3, 4, 5]\n",
        "result = remove_first_last(example_list)\n",
        "print(result)  # Output: [2, 3, 4]\n"
      ]
    },
    {
      "cell_type": "markdown",
      "source": [
        "Get the First n Elements:\n",
        "\n",
        "Write a Python function that extracts the first n elements from a list.\n",
        "\n",
        "• Requirements:\n",
        "\n",
        "– Define a function get first n(lst, n) that takes a list lst and an integer n as input and returns the first n elements of the list using slicing.\n",
        "\n",
        "– Example: For the input [1, 2, 3, 4, 5] with n=3, the output should be [1, 2, 3]."
      ],
      "metadata": {
        "id": "l3Y7k-Rd57j5"
      },
      "id": "l3Y7k-Rd57j5"
    },
    {
      "cell_type": "code",
      "execution_count": 7,
      "id": "d98ec23d-c3b6-41ba-a7af-4c93e6fbbd85",
      "metadata": {
        "id": "d98ec23d-c3b6-41ba-a7af-4c93e6fbbd85",
        "outputId": "369d3106-6f5e-4f7c-c906-79c28ede04c7",
        "colab": {
          "base_uri": "https://localhost:8080/"
        }
      },
      "outputs": [
        {
          "output_type": "stream",
          "name": "stdout",
          "text": [
            "[1, 2, 3]\n"
          ]
        }
      ],
      "source": [
        "#Task-7\n",
        "def get_first_n(lst, n):\n",
        "    \"\"\"\n",
        "    Extracts the first n elements from the given list.\n",
        "\n",
        "    Parameters:\n",
        "    lst (list): The input list from which the first n elements are to be extracted.\n",
        "    n (int): The number of elements to extract from the beginning of the list.\n",
        "\n",
        "    Returns:\n",
        "    list: A new list containing the first n elements of the original list.\n",
        "    \"\"\"\n",
        "    return lst[:n]  # Slice to get the first n elements\n",
        "\n",
        "# Example usage\n",
        "example_list = [1, 2, 3, 4, 5]\n",
        "result = get_first_n(example_list, 3)\n",
        "print(result)  # Output: [1, 2, 3]\n"
      ]
    },
    {
      "cell_type": "markdown",
      "source": [
        "Extract Elements from the End:\n",
        "\n",
        "Write a Python function that extracts the last n elements of a list using slicing.\n",
        "\n",
        "• Requirements:\n",
        "\n",
        "– Define a function get last n(lst, n) that takes a list lst and an integer n as input and returns the last n elements of the list.\n",
        "\n",
        "– Example: For the input [1, 2, 3, 4, 5] with n=2, the output should be [4, 5]."
      ],
      "metadata": {
        "id": "SsENPFvQ6Aro"
      },
      "id": "SsENPFvQ6Aro"
    },
    {
      "cell_type": "code",
      "execution_count": 8,
      "id": "aa760fc3-18c0-4f88-a8a7-75add8d5aa0e",
      "metadata": {
        "id": "aa760fc3-18c0-4f88-a8a7-75add8d5aa0e",
        "outputId": "4715d0ca-9019-478b-bd34-aa0d6f093027",
        "colab": {
          "base_uri": "https://localhost:8080/"
        }
      },
      "outputs": [
        {
          "output_type": "stream",
          "name": "stdout",
          "text": [
            "[4, 5]\n"
          ]
        }
      ],
      "source": [
        "#Task8\n",
        "def get_last_n(lst, n):\n",
        "    \"\"\"\n",
        "    Extracts the last n elements from the given list.\n",
        "\n",
        "    Parameters:\n",
        "    lst (list): The input list from which the last n elements are to be extracted.\n",
        "    n (int): The number of elements to extract from the end of the list.\n",
        "\n",
        "    Returns:\n",
        "    list: A new list containing the last n elements of the original list.\n",
        "    \"\"\"\n",
        "    return lst[-n:]  # Slice to get the last n elements\n",
        "\n",
        "# Example usage\n",
        "example_list = [1, 2, 3, 4, 5]\n",
        "result = get_last_n(example_list, 2)\n",
        "print(result)  # Output: [4, 5]\n"
      ]
    },
    {
      "cell_type": "markdown",
      "source": [
        "Extract Elements in Reverse Order:\n",
        "\n",
        "Write a Python function that extracts a list of elements in reverse order starting from the second-to-last element and skipping one element in between.\n",
        "\n",
        "• Requirements:\n",
        "\n",
        "– Define a function reverse skip(lst) that takes a list lst and returns a new list containing every second element starting from the second-to-last, moving backward.\n",
        "\n",
        "– Example: For the input [1, 2, 3, 4, 5, 6], the output should be [5, 3, 1]."
      ],
      "metadata": {
        "id": "R78csCNc6EHJ"
      },
      "id": "R78csCNc6EHJ"
    },
    {
      "cell_type": "code",
      "execution_count": 9,
      "id": "043a29af-9ed4-40d9-912b-fa1dcae4d197",
      "metadata": {
        "id": "043a29af-9ed4-40d9-912b-fa1dcae4d197",
        "outputId": "ca1208ff-e10d-42da-b224-5b0dc4a22d95",
        "colab": {
          "base_uri": "https://localhost:8080/"
        }
      },
      "outputs": [
        {
          "output_type": "stream",
          "name": "stdout",
          "text": [
            "[5, 3, 1]\n"
          ]
        }
      ],
      "source": [
        "#Task- 9\n",
        "def reverse_skip(lst):\n",
        "    \"\"\"\n",
        "    Extracts elements in reverse order starting from the second-to-last element,\n",
        "    skipping one element in between.\n",
        "\n",
        "    Parameters:\n",
        "    lst (list): The input list from which elements are to be extracted.\n",
        "\n",
        "    Returns:\n",
        "    list: A new list containing every second element starting from the second-to-last element, moving backward.\n",
        "    \"\"\"\n",
        "    return lst[-2::-2]  # Slice to start from second-to-last and skip every second element backward\n",
        "\n",
        "# Example usage\n",
        "example_list = [1, 2, 3, 4, 5, 6]\n",
        "result = reverse_skip(example_list)\n",
        "print(result)\n"
      ]
    },
    {
      "cell_type": "markdown",
      "source": [
        "Flatten a Nested List:\n",
        "\n",
        "Write a Python function that takes a nested list and flattens it into a single list, where all the elements are in a single dimension.\n",
        "\n",
        "• Requirements:\n",
        "\n",
        "– Define a function flatten(lst) that takes a nested list lst and returns a flattened version of the list.\n",
        "\n",
        "– Example: For the input [[1, 2], [3, 4], [5]], the output should be [1, 2, 3, 4, 5]."
      ],
      "metadata": {
        "id": "UiEE7TBz6IOD"
      },
      "id": "UiEE7TBz6IOD"
    },
    {
      "cell_type": "code",
      "execution_count": 10,
      "id": "7d58d5a9-db76-4251-a3f1-145ca27f8a90",
      "metadata": {
        "id": "7d58d5a9-db76-4251-a3f1-145ca27f8a90",
        "outputId": "2a7c19ab-299d-4b49-8d1b-116542f9524b",
        "colab": {
          "base_uri": "https://localhost:8080/"
        }
      },
      "outputs": [
        {
          "output_type": "stream",
          "name": "stdout",
          "text": [
            "[1, 2, 3, 4, 5]\n"
          ]
        }
      ],
      "source": [
        "#Task-10\n",
        "def flatten(lst):\n",
        "    \"\"\"\n",
        "    Flattens a nested list into a single-dimensional list.\n",
        "\n",
        "    Parameters:\n",
        "    lst (list): The input nested list containing sublists.\n",
        "\n",
        "    Returns:\n",
        "    list: A new list with all elements in a single dimension.\n",
        "    \"\"\"\n",
        "    flat_list = []  # Initialize an empty list to store flattened elements\n",
        "    for sublist in lst:\n",
        "        flat_list.extend(sublist)  # Extend the list by adding elements from each sublist\n",
        "    return flat_list\n",
        "\n",
        "# Example usage\n",
        "example_list = [[1, 2], [3, 4], [5]]\n",
        "result = flatten(example_list)\n",
        "print(result)\n"
      ]
    },
    {
      "cell_type": "markdown",
      "source": [
        "Accessing Nested List Elements:\n",
        "\n",
        "Write a Python function that extracts a specific element from a nested list given its indices.\n",
        "\n",
        "• Requirements:\n",
        "\n",
        "– Define a function access nested element(lst, indices) that takes a nested list lst and a list of indices indices, and returns the element at that position.\n",
        "\n",
        "– Example: For the input lst = [[1, 2, 3], [4, 5, 6], [7, 8, 9]] with indices = [1, 2], the output should be 6."
      ],
      "metadata": {
        "id": "pvF-W4o96LW4"
      },
      "id": "pvF-W4o96LW4"
    },
    {
      "cell_type": "code",
      "execution_count": 11,
      "id": "2f37418b-40e4-4cb5-8712-153f5caac5ff",
      "metadata": {
        "id": "2f37418b-40e4-4cb5-8712-153f5caac5ff",
        "outputId": "be52bf0f-bc81-405f-f015-73a43c17bd0f",
        "colab": {
          "base_uri": "https://localhost:8080/"
        }
      },
      "outputs": [
        {
          "output_type": "stream",
          "name": "stdout",
          "text": [
            "6\n"
          ]
        }
      ],
      "source": [
        "#Task-11\n",
        "def access_nested_element(lst, indices):\n",
        "    \"\"\"\n",
        "    Extracts a specific element from a nested list given a list of indices.\n",
        "\n",
        "    Parameters:\n",
        "    lst (list): The nested list from which to extract the element.\n",
        "    indices (list): A list of indices representing the path to the desired element.\n",
        "\n",
        "    Returns:\n",
        "    any: The element at the specified indices, or None if indices are invalid.\n",
        "    \"\"\"\n",
        "    try:\n",
        "        element = lst  # Start with the original nested list\n",
        "        for index in indices:\n",
        "            element = element[index]  # Navigate deeper using the provided indices\n",
        "        return element\n",
        "    except (IndexError, TypeError):\n",
        "        return None  # Return None if indices are out of range or invalid\n",
        "\n",
        "# Example usage\n",
        "nested_list = [[1, 2, 3], [4, 5, 6], [7, 8, 9]]\n",
        "result = access_nested_element(nested_list, [1, 2])\n",
        "print(result)\n"
      ]
    },
    {
      "cell_type": "markdown",
      "source": [
        "Sum of All Elements in a Nested List:\n",
        "\n",
        "Write a Python function that calculates the sum of all the numbers in a nested list (regardless of depth).\n",
        "\n",
        "• Requirements:\n",
        "\n",
        "– Define a function sum nested(lst) that takes a nested list lst and returns the sum of all the elements.\n",
        "\n",
        "– Example: For the input [[1, 2], [3, [4, 5]], 6], the output should be 21."
      ],
      "metadata": {
        "id": "_FoVYhXg6OXg"
      },
      "id": "_FoVYhXg6OXg"
    },
    {
      "cell_type": "code",
      "execution_count": 12,
      "id": "48d973ce-7534-41be-86a1-9de405641b98",
      "metadata": {
        "id": "48d973ce-7534-41be-86a1-9de405641b98",
        "outputId": "f341d864-a2f4-4d75-b9e6-e1e2b4290f29",
        "colab": {
          "base_uri": "https://localhost:8080/"
        }
      },
      "outputs": [
        {
          "output_type": "stream",
          "name": "stdout",
          "text": [
            "21\n"
          ]
        }
      ],
      "source": [
        "#Task-12\n",
        "def sum_nested(lst):\n",
        "    \"\"\"\n",
        "    Recursively calculates the sum of all numbers in a nested list.\n",
        "\n",
        "    Parameters:\n",
        "    lst (list): The nested list containing integers or sublists.\n",
        "\n",
        "    Returns:\n",
        "    int: The sum of all numbers in the nested list.\n",
        "    \"\"\"\n",
        "    total = 0\n",
        "    for element in lst:\n",
        "        if isinstance(element, list):  # If it's a list, recurse into it\n",
        "            total += sum_nested(element)\n",
        "        else:  # If it's an integer, add it to the total\n",
        "            total += element\n",
        "    return total\n",
        "\n",
        "# Example usage\n",
        "nested_list = [[1, 2], [3, [4, 5]], 6]\n",
        "result = sum_nested(nested_list)\n",
        "print(result)\n"
      ]
    },
    {
      "cell_type": "markdown",
      "source": [
        "Remove Specific Element from a Nested List:\n",
        "\n",
        "Write a Python function that removes all occurrences of a specific element from a nested list.\n",
        "\n",
        "• Requirements:\n",
        "\n",
        "– Define a function remove element(lst, elem) that removes elem from lst and returns the modified list.\n",
        "\n",
        "– Example: For the input lst = [[1, 2], [3, 2], [4, 5]] and elem = 2, the output should be [[1], [3], [4, 5]]."
      ],
      "metadata": {
        "id": "0G1eibHf6Rtp"
      },
      "id": "0G1eibHf6Rtp"
    },
    {
      "cell_type": "code",
      "execution_count": 13,
      "id": "73e3371b-5847-4ea8-9298-30ca987feff2",
      "metadata": {
        "id": "73e3371b-5847-4ea8-9298-30ca987feff2",
        "outputId": "35b6cc53-46a6-49e7-fa71-613a7db6342d",
        "colab": {
          "base_uri": "https://localhost:8080/"
        }
      },
      "outputs": [
        {
          "output_type": "stream",
          "name": "stdout",
          "text": [
            "[[1], [3], [4, 5]]\n"
          ]
        }
      ],
      "source": [
        "#Task-13\n",
        "def remove_element(lst, elem):\n",
        "    \"\"\"\n",
        "    Recursively removes all occurrences of a specific element from a nested list.\n",
        "\n",
        "    Parameters:\n",
        "    lst (list): The nested list from which the element should be removed.\n",
        "    elem (any): The element to remove from the list.\n",
        "\n",
        "    Returns:\n",
        "    list: A new nested list with all occurrences of the element removed.\n",
        "    \"\"\"\n",
        "    result = []\n",
        "    for item in lst:\n",
        "        if isinstance(item, list):  # If the item is a list, recurse into it\n",
        "            new_sublist = remove_element(item, elem)\n",
        "            result.append(new_sublist)  # Append modified sublist\n",
        "        elif item != elem:  # Only add elements that are not equal to `elem`\n",
        "            result.append(item)\n",
        "    return result\n",
        "\n",
        "# Example usage\n",
        "nested_list = [[1, 2], [3, 2], [4, 5]]\n",
        "result = remove_element(nested_list, 2)\n",
        "print(result)\n"
      ]
    },
    {
      "cell_type": "markdown",
      "source": [
        "Find the Maximum Element in a Nested List:\n",
        "\n",
        "Write a Python function that finds the maximum element in a nested list (regardless of depth).\n",
        "\n",
        "• Requirements:\n",
        "\n",
        "– Define a function find max(lst) that takes a nested list lst and returns the maximum\n",
        "element.\n",
        "\n",
        "– Example: For the input [[1, 2], [3, [4, 5]], 6], the output should be 6."
      ],
      "metadata": {
        "id": "MPhhYDBdw1pW"
      },
      "id": "MPhhYDBdw1pW"
    },
    {
      "cell_type": "code",
      "execution_count": 14,
      "id": "a9d4eef4-bdd9-424b-b064-bd8b877befff",
      "metadata": {
        "id": "a9d4eef4-bdd9-424b-b064-bd8b877befff",
        "outputId": "00af4754-481a-4b92-f599-69bd9a8f5369",
        "colab": {
          "base_uri": "https://localhost:8080/"
        }
      },
      "outputs": [
        {
          "output_type": "stream",
          "name": "stdout",
          "text": [
            "6\n"
          ]
        }
      ],
      "source": [
        "#Task-14\n",
        "def find_max(lst):\n",
        "    \"\"\"\n",
        "    Recursively finds the maximum element in a nested list.\n",
        "\n",
        "    Parameters:\n",
        "    lst (list): The nested list containing integers or sublists.\n",
        "\n",
        "    Returns:\n",
        "    int: The maximum element in the nested list.\n",
        "    \"\"\"\n",
        "    max_value = float('-inf')  # Initialize max as negative infinity\n",
        "\n",
        "    for item in lst:\n",
        "        if isinstance(item, list):  # If item is a list, recurse into it\n",
        "            max_value = max(max_value, find_max(item))\n",
        "        else:  # If item is a number, compare it with max_value\n",
        "            max_value = max(max_value, item)\n",
        "\n",
        "    return max_value\n",
        "\n",
        "# Example usage\n",
        "nested_list = [[1, 2], [3, [4, 5]], 6]\n",
        "result = find_max(nested_list)\n",
        "print(result)\n"
      ]
    },
    {
      "cell_type": "markdown",
      "source": [
        "Count Occurrences of an Element in a Nested List:\n",
        "\n",
        "Write a Python function that counts how many times a specific element appears in a nested list.\n",
        "\n",
        "• Requirements:\n",
        "\n",
        "– Define a function count occurrences(lst, elem) that counts the occurrences of elem in\n",
        "the nested list lst.\n",
        "\n",
        "– Example: For the input lst = [[1, 2], [2, 3], [2, 4]] and elem = 2, the output should\n",
        "be 3."
      ],
      "metadata": {
        "id": "YDGBozFYxEIz"
      },
      "id": "YDGBozFYxEIz"
    },
    {
      "cell_type": "code",
      "execution_count": 15,
      "id": "ca7f42dd-b98a-45e0-9bae-d41d4e77797e",
      "metadata": {
        "id": "ca7f42dd-b98a-45e0-9bae-d41d4e77797e",
        "outputId": "1c443f4b-f924-492e-9e2c-31f7ad8708be",
        "colab": {
          "base_uri": "https://localhost:8080/"
        }
      },
      "outputs": [
        {
          "output_type": "stream",
          "name": "stdout",
          "text": [
            "3\n"
          ]
        }
      ],
      "source": [
        "#Task-15\n",
        "def count_occurrences(lst, elem):\n",
        "    \"\"\"\n",
        "    Recursively counts the occurrences of a specific element in a nested list.\n",
        "\n",
        "    Parameters:\n",
        "    lst (list): The nested list to search in.\n",
        "    elem (any): The element whose occurrences need to be counted.\n",
        "\n",
        "    Returns:\n",
        "    int: The number of times elem appears in the nested list.\n",
        "    \"\"\"\n",
        "    count = 0\n",
        "    for item in lst:\n",
        "        if isinstance(item, list):  # If item is a list, recurse into it\n",
        "            count += count_occurrences(item, elem)\n",
        "        elif item == elem:  # If item matches elem, increase count\n",
        "            count += 1\n",
        "    return count\n",
        "\n",
        "# Example usage\n",
        "nested_list = [[1, 2], [2, 3], [2, 4]]\n",
        "result = count_occurrences(nested_list, 2)\n",
        "print(result)\n"
      ]
    },
    {
      "cell_type": "markdown",
      "source": [
        "Flatten a List of Lists of Lists:\n",
        "\n",
        "Write a Python function that flattens a list of lists of lists into a single list, regardless of the depth.\n",
        "\n",
        "• Requirements:\n",
        "\n",
        "– Define a function deep flatten(lst) that takes a deeply nested list lst and returns a single\n",
        "flattened list.\n",
        "\n",
        "– Example: For the input [[[1, 2], [3, 4]], [[5, 6], [7, 8]]], the output should be\n",
        "[1, 2, 3, 4, 5, 6, 7, 8]."
      ],
      "metadata": {
        "id": "kRSbfKm9xIVr"
      },
      "id": "kRSbfKm9xIVr"
    },
    {
      "cell_type": "code",
      "execution_count": 16,
      "id": "fce5619a-3767-491d-8a37-27488bb091d4",
      "metadata": {
        "id": "fce5619a-3767-491d-8a37-27488bb091d4",
        "outputId": "b835c869-e960-4e3f-94cc-6ee3145fba8e",
        "colab": {
          "base_uri": "https://localhost:8080/"
        }
      },
      "outputs": [
        {
          "output_type": "stream",
          "name": "stdout",
          "text": [
            "[1, 2, 3, 4, 5, 6, 7, 8]\n"
          ]
        }
      ],
      "source": [
        "#Task16\n",
        "def deep_flatten(lst):\n",
        "    \"\"\"\n",
        "    Recursively flattens a deeply nested list into a single list.\n",
        "\n",
        "    Parameters:\n",
        "    lst (list): The nested list to be flattened.\n",
        "\n",
        "    Returns:\n",
        "    list: A flattened version of the input list.\n",
        "    \"\"\"\n",
        "    flattened_list = []\n",
        "    for item in lst:\n",
        "        if isinstance(item, list):  # If the item is a list, recurse into it\n",
        "            flattened_list.extend(deep_flatten(item))\n",
        "        else:  # If it's not a list, add it to the result\n",
        "            flattened_list.append(item)\n",
        "    return flattened_list\n",
        "\n",
        "# Example usage\n",
        "nested_list = [[[1, 2], [3, 4]], [[5, 6], [7, 8]]]\n",
        "result = deep_flatten(nested_list)\n",
        "print(result)\n"
      ]
    },
    {
      "cell_type": "markdown",
      "source": [
        "Nested List Average:\n",
        "\n",
        "Write a Python function that calculates the average of all elements in a nested list.\n",
        "\n",
        "• Requirements:\n",
        "\n",
        "– Define a function average nested(lst) that takes a nested list lst and returns the average\n",
        "of all the elements.\n",
        "\n",
        "– Example: For the input [[1, 2], [3, 4], [5, 6]], the output should be 3.5."
      ],
      "metadata": {
        "id": "fJmqej8QxMcV"
      },
      "id": "fJmqej8QxMcV"
    },
    {
      "cell_type": "code",
      "execution_count": 17,
      "id": "3ceb1f04-feab-4c51-81f3-2f2f0a32ad52",
      "metadata": {
        "id": "3ceb1f04-feab-4c51-81f3-2f2f0a32ad52",
        "outputId": "5c29fddd-429c-40a8-aa92-9d39c84d880e",
        "colab": {
          "base_uri": "https://localhost:8080/"
        }
      },
      "outputs": [
        {
          "output_type": "stream",
          "name": "stdout",
          "text": [
            "3.5\n"
          ]
        }
      ],
      "source": [
        "#Task-17\n",
        "def average_nested(lst):\n",
        "    \"\"\"\n",
        "    Recursively calculates the average of all elements in a nested list.\n",
        "\n",
        "    Parameters:\n",
        "    lst (list): The nested list containing numbers.\n",
        "\n",
        "    Returns:\n",
        "    float: The average of all numbers in the nested list.\n",
        "    \"\"\"\n",
        "    def flatten_and_sum(lst):\n",
        "        \"\"\" Helper function to flatten list and sum elements with count. \"\"\"\n",
        "        total_sum = 0\n",
        "        count = 0\n",
        "        for item in lst:\n",
        "            if isinstance(item, list):\n",
        "                sub_sum, sub_count = flatten_and_sum(item)\n",
        "                total_sum += sub_sum\n",
        "                count += sub_count\n",
        "            else:\n",
        "                total_sum += item\n",
        "                count += 1\n",
        "        return total_sum, count\n",
        "\n",
        "    total, count = flatten_and_sum(lst)\n",
        "    return total / count if count > 0 else 0  # Avoid division by zero\n",
        "\n",
        "# Example usage\n",
        "nested_list = [[1, 2], [3, 4], [5, 6]]\n",
        "result = average_nested(nested_list)\n",
        "print(result)\n"
      ]
    },
    {
      "cell_type": "markdown",
      "source": [
        "# **Nmpy Problems**"
      ],
      "metadata": {
        "id": "csZOR9URz4a8"
      },
      "id": "csZOR9URz4a8"
    },
    {
      "cell_type": "markdown",
      "source": [
        "Problem - 1: Array Creation:\n",
        "Complete the following Tasks:\n",
        "1. Initialize an empty array with size 2X2.\n",
        "2. Initialize an all one array with size 4X2.\n",
        "3. Return a new array of given shape and type, filled with fill value.{Hint: np.full}\n",
        "4. Return a new array of zeros with same shape and type as a given array.{Hint: np.zeros like}\n",
        "5. Return a new array of ones with same shape and type as a given array.{Hint: np.ones like}\n",
        "6. For an existing list new_list = [1,2,3,4] convert to an numpy array.{Hint: np.array()}"
      ],
      "metadata": {
        "id": "u_3Y-09wz9LK"
      },
      "id": "u_3Y-09wz9LK"
    },
    {
      "cell_type": "code",
      "execution_count": 18,
      "id": "69da6946-dbd4-4f53-aafe-1509bff563fd",
      "metadata": {
        "id": "69da6946-dbd4-4f53-aafe-1509bff563fd",
        "outputId": "e51614b9-642a-421a-b416-de8a0008c1bf",
        "colab": {
          "base_uri": "https://localhost:8080/"
        }
      },
      "outputs": [
        {
          "output_type": "stream",
          "name": "stdout",
          "text": [
            "Empty Array (2x2):\n",
            " [[2.06130363e-316 0.00000000e+000]\n",
            " [4.94065646e-324 6.79128169e-310]]\n",
            "\n",
            "All Ones Array (4x2):\n",
            " [[1. 1.]\n",
            " [1. 1.]\n",
            " [1. 1.]\n",
            " [1. 1.]]\n",
            "\n",
            "Array Filled with 7 (3x3):\n",
            " [[7 7 7]\n",
            " [7 7 7]\n",
            " [7 7 7]]\n",
            "\n",
            "Zeros Array with Same Shape as Reference:\n",
            " [[0 0 0]\n",
            " [0 0 0]]\n",
            "\n",
            "Ones Array with Same Shape as Reference:\n",
            " [[1 1 1]\n",
            " [1 1 1]]\n",
            "\n",
            "Converted NumPy Array:\n",
            " [1 2 3 4]\n"
          ]
        }
      ],
      "source": [
        "#Num-py Problem Number-1\n",
        "import numpy as np\n",
        "\n",
        "def create_empty_array():\n",
        "    \"\"\"\n",
        "    Creates and returns an empty 2x2 NumPy array.\n",
        "\n",
        "    Returns:\n",
        "    numpy.ndarray: A 2x2 uninitialized (empty) array.\n",
        "    \"\"\"\n",
        "    return np.empty((2, 2))\n",
        "\n",
        "def create_ones_array():\n",
        "    \"\"\"\n",
        "    Creates and returns a 4x2 NumPy array filled with ones.\n",
        "\n",
        "    Returns:\n",
        "    numpy.ndarray: A 4x2 array filled with ones.\n",
        "    \"\"\"\n",
        "    return np.ones((4, 2))\n",
        "\n",
        "def create_filled_array(shape, value):\n",
        "    \"\"\"\n",
        "    Creates and returns a NumPy array of a given shape, filled with a specific value.\n",
        "\n",
        "    Parameters:\n",
        "    shape (tuple): Shape of the array.\n",
        "    value (int/float): Value to fill the array with.\n",
        "\n",
        "    Returns:\n",
        "    numpy.ndarray: An array filled with the specified value.\n",
        "    \"\"\"\n",
        "    return np.full(shape, value)\n",
        "\n",
        "def create_zeros_like(reference_array):\n",
        "    \"\"\"\n",
        "    Creates and returns a NumPy array of zeros with the same shape and type as a given array.\n",
        "\n",
        "    Parameters:\n",
        "    reference_array (numpy.ndarray): Reference array.\n",
        "\n",
        "    Returns:\n",
        "    numpy.ndarray: A zero-filled array with the same shape and type as reference_array.\n",
        "    \"\"\"\n",
        "    return np.zeros_like(reference_array)\n",
        "\n",
        "def create_ones_like(reference_array):\n",
        "    \"\"\"\n",
        "    Creates and returns a NumPy array of ones with the same shape and type as a given array.\n",
        "\n",
        "    Parameters:\n",
        "    reference_array (numpy.ndarray): Reference array.\n",
        "\n",
        "    Returns:\n",
        "    numpy.ndarray: A ones-filled array with the same shape and type as reference_array.\n",
        "    \"\"\"\n",
        "    return np.ones_like(reference_array)\n",
        "\n",
        "def convert_list_to_numpy(new_list):\n",
        "    \"\"\"\n",
        "    Converts a Python list into a NumPy array.\n",
        "\n",
        "    Parameters:\n",
        "    new_list (list): List to convert.\n",
        "\n",
        "    Returns:\n",
        "    numpy.ndarray: NumPy array containing the list elements.\n",
        "    \"\"\"\n",
        "    return np.array(new_list)\n",
        "\n",
        "# Example Usage\n",
        "empty_array = create_empty_array()\n",
        "print(\"Empty Array (2x2):\\n\", empty_array)\n",
        "\n",
        "ones_array = create_ones_array()\n",
        "print(\"\\nAll Ones Array (4x2):\\n\", ones_array)\n",
        "\n",
        "filled_array = create_filled_array((3, 3), 7)  # Example: Filling with 7\n",
        "print(\"\\nArray Filled with 7 (3x3):\\n\", filled_array)\n",
        "\n",
        "reference_array = np.array([[5, 6, 7], [8, 9, 10]])\n",
        "\n",
        "zeros_like_array = create_zeros_like(reference_array)\n",
        "print(\"\\nZeros Array with Same Shape as Reference:\\n\", zeros_like_array)\n",
        "\n",
        "ones_like_array = create_ones_like(reference_array)\n",
        "print(\"\\nOnes Array with Same Shape as Reference:\\n\", ones_like_array)\n",
        "\n",
        "new_list = [1, 2, 3, 4]\n",
        "numpy_array = convert_list_to_numpy(new_list)\n",
        "print(\"\\nConverted NumPy Array:\\n\", numpy_array)\n"
      ]
    },
    {
      "cell_type": "markdown",
      "source": [
        "Problem - 2: Array Manipulation: Numerical Ranges and Array indexing:\n",
        "Complete the following tasks:\n",
        "1. Create an array with values ranging from 10 to 49. {Hint:np.arrange()}.\n",
        "2. Create a 3X3 matrix with values ranging from 0 to 8.\n",
        "{Hint:look for np.reshape()}\n",
        "3. Create a 3X3 identity matrix.{Hint:np.eye()}\n",
        "4. Create a random array of size 30 and find the mean of the array.\n",
        "{Hint:check for np.random.random() and array.mean() function}\n",
        "5. Create a 10X10 array with random values and find the minimum and maximum values.\n",
        "6. Create a zero array of size 10 and replace 5th element with 1.\n",
        "7. Reverse an array arr = [1,2,0,0,4,0].\n",
        "8. Create a 2d array with 1 on border and 0 inside.\n",
        "9. Create a 8X8 matrix and fill it with a checkerboard pattern."
      ],
      "metadata": {
        "id": "NzZDKlXA1aUy"
      },
      "id": "NzZDKlXA1aUy"
    },
    {
      "cell_type": "code",
      "execution_count": 19,
      "id": "63fd5980-b8b5-4ae9-aafc-9022c70f47e5",
      "metadata": {
        "id": "63fd5980-b8b5-4ae9-aafc-9022c70f47e5",
        "outputId": "8f872b14-31bc-494a-d39c-ea52a36912ee",
        "colab": {
          "base_uri": "https://localhost:8080/"
        }
      },
      "outputs": [
        {
          "output_type": "stream",
          "name": "stdout",
          "text": [
            "Array with values from 10 to 49:\n",
            " [10 11 12 13 14 15 16 17 18 19 20 21 22 23 24 25 26 27 28 29 30 31 32 33\n",
            " 34 35 36 37 38 39 40 41 42 43 44 45 46 47 48 49]\n",
            "\n",
            "3x3 Matrix with values 0 to 8:\n",
            " [[0 1 2]\n",
            " [3 4 5]\n",
            " [6 7 8]]\n",
            "\n",
            "3x3 Identity Matrix:\n",
            " [[1. 0. 0.]\n",
            " [0. 1. 0.]\n",
            " [0. 0. 1.]]\n",
            "\n",
            "Random Array of Size 30:\n",
            " [0.27980838 0.48754057 0.97387905 0.39406998 0.58893974 0.60486835\n",
            " 0.72562746 0.82337657 0.30527079 0.81798595 0.76866429 0.96887687\n",
            " 0.49185119 0.76977718 0.53841871 0.979659   0.88829489 0.31900386\n",
            " 0.93631896 0.92208477 0.8389225  0.18085745 0.94246672 0.16447234\n",
            " 0.30455441 0.4120479  0.66479911 0.81975972 0.33953906 0.07723674]\n",
            "Mean Value: 0.6109657502473722\n",
            "\n",
            "10x10 Random Matrix:\n",
            " [[0.14031641 0.73319781 0.85719933 0.10474681 0.32322948 0.32360593\n",
            "  0.55604153 0.80821965 0.98903985 0.64504944]\n",
            " [0.48303534 0.98276687 0.89633048 0.30860446 0.36511647 0.72800127\n",
            "  0.61720815 0.96796908 0.30993791 0.29337013]\n",
            " [0.30375921 0.16426329 0.62732774 0.92020476 0.16428035 0.69612692\n",
            "  0.1722519  0.48780177 0.14500499 0.3687651 ]\n",
            " [0.00291831 0.82557112 0.83253762 0.88361275 0.11708875 0.76335355\n",
            "  0.20650068 0.8872611  0.80902689 0.4714694 ]\n",
            " [0.91708535 0.55570621 0.41930445 0.97622331 0.90981898 0.16203962\n",
            "  0.5081236  0.6487409  0.18982031 0.58731878]\n",
            " [0.69512798 0.90266898 0.89446806 0.34666779 0.58129494 0.56751968\n",
            "  0.13246155 0.67315352 0.11594708 0.66338306]\n",
            " [0.15630617 0.8476505  0.44972199 0.07863899 0.55164992 0.02783329\n",
            "  0.66123109 0.9852974  0.41570362 0.34847299]\n",
            " [0.60155237 0.13905287 0.89258147 0.21256184 0.49588189 0.64080227\n",
            "  0.25196023 0.33215468 0.01854088 0.23361313]\n",
            " [0.03760057 0.6498087  0.41423014 0.65343464 0.79273564 0.3322651\n",
            "  0.77035425 0.32104671 0.01454598 0.38616674]\n",
            " [0.09725417 0.9470429  0.22747697 0.47280622 0.66643325 0.88607988\n",
            "  0.21072546 0.24775024 0.45407246 0.21689063]]\n",
            "Minimum Value: 0.00291830785360625\n",
            "Maximum Value: 0.9890398489995613\n",
            "\n",
            "Zero Array with 5th Element as 1:\n",
            " [0. 0. 0. 0. 1. 0. 0. 0. 0. 0.]\n",
            "\n",
            "Reversed Array:\n",
            " [0 4 0 0 2 1]\n",
            "\n",
            "2D Array with Border 1s and Inside 0s:\n",
            " [[1. 1. 1. 1. 1.]\n",
            " [1. 0. 0. 0. 1.]\n",
            " [1. 0. 0. 0. 1.]\n",
            " [1. 0. 0. 0. 1.]\n",
            " [1. 1. 1. 1. 1.]]\n",
            "\n",
            "8x8 Checkerboard Pattern:\n",
            " [[0 1 0 1 0 1 0 1]\n",
            " [1 0 1 0 1 0 1 0]\n",
            " [0 1 0 1 0 1 0 1]\n",
            " [1 0 1 0 1 0 1 0]\n",
            " [0 1 0 1 0 1 0 1]\n",
            " [1 0 1 0 1 0 1 0]\n",
            " [0 1 0 1 0 1 0 1]\n",
            " [1 0 1 0 1 0 1 0]]\n"
          ]
        }
      ],
      "source": [
        "#Num-py Problem Number-2\n",
        "import numpy as np\n",
        "\n",
        "def create_range_array():\n",
        "    \"\"\"\n",
        "    Creates and returns an array with values ranging from 10 to 49.\n",
        "\n",
        "    Returns:\n",
        "    numpy.ndarray: Array with values from 10 to 49.\n",
        "    \"\"\"\n",
        "    return np.arange(10, 50)\n",
        "\n",
        "def create_3x3_matrix():\n",
        "    \"\"\"\n",
        "    Creates and returns a 3x3 matrix with values ranging from 0 to 8.\n",
        "\n",
        "    Returns:\n",
        "    numpy.ndarray: A 3x3 matrix with values from 0 to 8.\n",
        "    \"\"\"\n",
        "    return np.arange(9).reshape(3, 3)\n",
        "\n",
        "def create_identity_matrix():\n",
        "    \"\"\"\n",
        "    Creates and returns a 3x3 identity matrix.\n",
        "\n",
        "    Returns:\n",
        "    numpy.ndarray: A 3x3 identity matrix.\n",
        "    \"\"\"\n",
        "    return np.eye(3)\n",
        "\n",
        "def create_random_array_mean():\n",
        "    \"\"\"\n",
        "    Creates a random array of size 30 and calculates its mean.\n",
        "\n",
        "    Returns:\n",
        "    tuple: (random array, mean value)\n",
        "    \"\"\"\n",
        "    random_array = np.random.random(30)  # Generate random values\n",
        "    mean_value = random_array.mean()  # Compute the mean\n",
        "    return random_array, mean_value\n",
        "\n",
        "def create_10x10_random_min_max():\n",
        "    \"\"\"\n",
        "    Creates a 10x10 matrix with random values and finds the minimum and maximum values.\n",
        "\n",
        "    Returns:\n",
        "    tuple: (random 10x10 matrix, min value, max value)\n",
        "    \"\"\"\n",
        "    random_matrix = np.random.random((10, 10))  # Generate a 10x10 matrix with random values\n",
        "    min_value = random_matrix.min()  # Find the minimum value\n",
        "    max_value = random_matrix.max()  # Find the maximum value\n",
        "    return random_matrix, min_value, max_value\n",
        "\n",
        "def replace_fifth_element():\n",
        "    \"\"\"\n",
        "    Creates a zero array of size 10 and replaces the 5th element with 1.\n",
        "\n",
        "    Returns:\n",
        "    numpy.ndarray: A modified array with the 5th element set to 1.\n",
        "    \"\"\"\n",
        "    arr = np.zeros(10)  # Create a zero array\n",
        "    arr[4] = 1  # Replace the 5th element (index 4) with 1\n",
        "    return arr\n",
        "\n",
        "def reverse_array():\n",
        "    \"\"\"\n",
        "    Reverses a given array.\n",
        "\n",
        "    Returns:\n",
        "    numpy.ndarray: A reversed array.\n",
        "    \"\"\"\n",
        "    arr = np.array([1, 2, 0, 0, 4, 0])\n",
        "    return arr[::-1]  # Reverse using slicing\n",
        "\n",
        "def create_border_array():\n",
        "    \"\"\"\n",
        "    Creates a 2D array with 1 on the border and 0 inside.\n",
        "\n",
        "    Returns:\n",
        "    numpy.ndarray: A 2D array with border 1s and inside 0s.\n",
        "    \"\"\"\n",
        "    arr = np.ones((5, 5))  # Create an array of ones\n",
        "    arr[1:-1, 1:-1] = 0  # Set inner elements to 0\n",
        "    return arr\n",
        "\n",
        "def create_checkerboard_pattern():\n",
        "    \"\"\"\n",
        "    Creates an 8x8 matrix and fills it with a checkerboard pattern.\n",
        "\n",
        "    Returns:\n",
        "    numpy.ndarray: An 8x8 checkerboard matrix.\n",
        "    \"\"\"\n",
        "    checkerboard = np.zeros((8, 8), dtype=int)  # Create an 8x8 zero matrix\n",
        "    checkerboard[1::2, ::2] = 1  # Fill alternating rows with 1s\n",
        "    checkerboard[::2, 1::2] = 1  # Fill alternating columns with 1s\n",
        "    return checkerboard\n",
        "\n",
        "# Example Usage\n",
        "print(\"Array with values from 10 to 49:\\n\", create_range_array())\n",
        "\n",
        "print(\"\\n3x3 Matrix with values 0 to 8:\\n\", create_3x3_matrix())\n",
        "\n",
        "print(\"\\n3x3 Identity Matrix:\\n\", create_identity_matrix())\n",
        "\n",
        "random_array, mean_value = create_random_array_mean()\n",
        "print(\"\\nRandom Array of Size 30:\\n\", random_array)\n",
        "print(\"Mean Value:\", mean_value)\n",
        "\n",
        "random_matrix, min_value, max_value = create_10x10_random_min_max()\n",
        "print(\"\\n10x10 Random Matrix:\\n\", random_matrix)\n",
        "print(\"Minimum Value:\", min_value)\n",
        "print(\"Maximum Value:\", max_value)\n",
        "\n",
        "print(\"\\nZero Array with 5th Element as 1:\\n\", replace_fifth_element())\n",
        "\n",
        "print(\"\\nReversed Array:\\n\", reverse_array())\n",
        "\n",
        "print(\"\\n2D Array with Border 1s and Inside 0s:\\n\", create_border_array())\n",
        "\n",
        "print(\"\\n8x8 Checkerboard Pattern:\\n\", create_checkerboard_pattern())\n"
      ]
    },
    {
      "cell_type": "markdown",
      "source": [
        "Problem - 3:\n",
        "Array Operations:\n",
        "\n",
        "For the following arrays:\n",
        "\n",
        "x = np.array([[1,2],[3,5]]) and y = np.array([[5,6],[7,8]]);\n",
        "\n",
        "v = np.array([9,10]) and w = np.array([11,12]);\n",
        "\n",
        "Complete all the task using numpy:\n",
        "1. Add the two array.\n",
        "2. Subtract the two array.\n",
        "3. Multiply the array with any integers of your choice.\n",
        "4. Find the square of each element of the array.\n",
        "5. Find the dot product between: v(and)w ; x(and)v ; x(and)y.\n",
        "6. Concatenate x(and)y along row and Concatenate v(and)w along column."
      ],
      "metadata": {
        "id": "q4U7fZ6t1egS"
      },
      "id": "q4U7fZ6t1egS"
    },
    {
      "cell_type": "code",
      "execution_count": 20,
      "id": "8edb64b4-6c43-4c8a-a325-284df255a561",
      "metadata": {
        "id": "8edb64b4-6c43-4c8a-a325-284df255a561",
        "outputId": "ac0673b3-9ff8-44fe-e268-8e5c88f72e87",
        "colab": {
          "base_uri": "https://localhost:8080/"
        }
      },
      "outputs": [
        {
          "output_type": "stream",
          "name": "stdout",
          "text": [
            "Addition of x and y:\n",
            " [[ 6  8]\n",
            " [10 13]]\n",
            "\n",
            "Subtraction of x and y:\n",
            " [[-4 -4]\n",
            " [-4 -3]]\n",
            "\n",
            "Multiplying x by 2:\n",
            " [[ 2  4]\n",
            " [ 6 10]]\n",
            "\n",
            "Square of each element in x:\n",
            " [[ 1  4]\n",
            " [ 9 25]]\n",
            "\n",
            "Dot product between v and w: 219\n",
            "\n",
            "Dot product between x and v:\n",
            " [29 77]\n",
            "\n",
            "Dot product between x and y:\n",
            " [[19 22]\n",
            " [50 58]]\n",
            "\n",
            "Concatenating x and y along row:\n",
            " [[1 2]\n",
            " [3 5]\n",
            " [5 6]\n",
            " [7 8]]\n",
            "\n",
            "Concatenating v and w along column:\n",
            " [[ 9 11]\n",
            " [10 12]]\n",
            "\n",
            "Error when trying to concatenate x and v: all the input arrays must have same number of dimensions, but the array at index 0 has 2 dimension(s) and the array at index 1 has 1 dimension(s)\n"
          ]
        }
      ],
      "source": [
        "#Num-py Problem Number-3\n",
        "import numpy as np\n",
        "\n",
        "# Define the arrays\n",
        "x = np.array([[1, 2], [3, 5]])  # A 2x2 array\n",
        "y = np.array([[5, 6], [7, 8]])  # Another 2x2 array\n",
        "v = np.array([9, 10])  # A 1D array of size 2\n",
        "w = np.array([11, 12])  # Another 1D array of size 2\n",
        "\n",
        "# 1. Add the two arrays\n",
        "def add_arrays(x, y):\n",
        "    \"\"\"\n",
        "    Adds two 2D numpy arrays element-wise.\n",
        "\n",
        "    Args:\n",
        "    x (numpy.ndarray): First 2D array.\n",
        "    y (numpy.ndarray): Second 2D array.\n",
        "\n",
        "    Returns:\n",
        "    numpy.ndarray: Resultant array from element-wise addition of x and y.\n",
        "    \"\"\"\n",
        "    return x + y\n",
        "\n",
        "add_result = add_arrays(x, y)\n",
        "print(\"Addition of x and y:\\n\", add_result)\n",
        "\n",
        "# 2. Subtract the two arrays\n",
        "def subtract_arrays(x, y):\n",
        "    \"\"\"\n",
        "    Subtracts the second array (y) from the first array (x) element-wise.\n",
        "\n",
        "    Args:\n",
        "    x (numpy.ndarray): First 2D array.\n",
        "    y (numpy.ndarray): Second 2D array.\n",
        "\n",
        "    Returns:\n",
        "    numpy.ndarray: Resultant array from element-wise subtraction of x and y.\n",
        "    \"\"\"\n",
        "    return x - y\n",
        "\n",
        "sub_result = subtract_arrays(x, y)\n",
        "print(\"\\nSubtraction of x and y:\\n\", sub_result)\n",
        "\n",
        "# 3. Multiply the array with any integers of your choice (let's use 2 for demonstration)\n",
        "def multiply_array(x, scalar):\n",
        "    \"\"\"\n",
        "    Multiplies each element of the 2D numpy array x by a scalar value.\n",
        "\n",
        "    Args:\n",
        "    x (numpy.ndarray): A 2D numpy array.\n",
        "    scalar (int): Scalar value to multiply each element of the array by.\n",
        "\n",
        "    Returns:\n",
        "    numpy.ndarray: A new numpy array with elements multiplied by scalar.\n",
        "    \"\"\"\n",
        "    return x * scalar\n",
        "\n",
        "mul_result = multiply_array(x, 2)\n",
        "print(\"\\nMultiplying x by 2:\\n\", mul_result)\n",
        "\n",
        "# 4. Find the square of each element of the array\n",
        "def square_elements(x):\n",
        "    \"\"\"\n",
        "    Computes the square of each element in the 2D numpy array x.\n",
        "\n",
        "    Args:\n",
        "    x (numpy.ndarray): A 2D numpy array.\n",
        "\n",
        "    Returns:\n",
        "    numpy.ndarray: A new array with each element squared.\n",
        "    \"\"\"\n",
        "    return np.square(x)\n",
        "\n",
        "square_result = square_elements(x)\n",
        "print(\"\\nSquare of each element in x:\\n\", square_result)\n",
        "\n",
        "# 5. Find the dot product between: v and w, x and v, x and y\n",
        "def dot_product(a, b):\n",
        "    \"\"\"\n",
        "    Computes the dot product between two numpy arrays.\n",
        "\n",
        "    Args:\n",
        "    a (numpy.ndarray): First array.\n",
        "    b (numpy.ndarray): Second array.\n",
        "\n",
        "    Returns:\n",
        "    int or numpy.ndarray: Dot product of a and b.\n",
        "    \"\"\"\n",
        "    return np.dot(a, b)\n",
        "\n",
        "# v and w (1D arrays)\n",
        "dot_vw = dot_product(v, w)\n",
        "print(\"\\nDot product between v and w:\", dot_vw)\n",
        "\n",
        "# x and v (2D and 1D arrays)\n",
        "dot_xv = dot_product(x, v)\n",
        "print(\"\\nDot product between x and v:\\n\", dot_xv)\n",
        "\n",
        "# x and y (2D arrays)\n",
        "dot_xy = dot_product(x, y)\n",
        "print(\"\\nDot product between x and y:\\n\", dot_xy)\n",
        "\n",
        "# 6. Concatenate x and y along row (axis=0), and v and w along columns (axis=1)\n",
        "def concatenate_arrays(x, y, axis):\n",
        "    \"\"\"\n",
        "    Concatenates two numpy arrays along the specified axis.\n",
        "\n",
        "    Args:\n",
        "    x (numpy.ndarray): First array.\n",
        "    y (numpy.ndarray): Second array.\n",
        "    axis (int): Axis along which to concatenate (0 for rows, 1 for columns).\n",
        "\n",
        "    Returns:\n",
        "    numpy.ndarray: Concatenated array.\n",
        "    \"\"\"\n",
        "    return np.concatenate((x, y), axis=axis)\n",
        "\n",
        "# Concatenate x and y along row (axis=0)\n",
        "concat_xy_row = concatenate_arrays(x, y, axis=0)\n",
        "print(\"\\nConcatenating x and y along row:\\n\", concat_xy_row)\n",
        "\n",
        "# Concatenate v and w along column (axis=1) - reshaping v and w to be 2D\n",
        "concat_vw_col = np.concatenate((v.reshape(-1, 1), w.reshape(-1, 1)), axis=1)\n",
        "print(\"\\nConcatenating v and w along column:\\n\", concat_vw_col)\n",
        "\n",
        "# 7. Concatenate x and v (observe and explain the error)\n",
        "def try_concatenate_x_and_v(x, v):\n",
        "    \"\"\"\n",
        "    Tries to concatenate x (2D array) and v (1D array) along columns (axis=1).\n",
        "    If it fails, the error is caught and returned.\n",
        "\n",
        "    Args:\n",
        "    x (numpy.ndarray): A 2D numpy array.\n",
        "    v (numpy.ndarray): A 1D numpy array.\n",
        "\n",
        "    Returns:\n",
        "    str: Error message if concatenation fails.\n",
        "    \"\"\"\n",
        "    try:\n",
        "        # Attempting to concatenate x and v along columns (axis=1)\n",
        "        return np.concatenate((x, v), axis=1)\n",
        "    except Exception as e:\n",
        "        return str(e)\n",
        "\n",
        "# Trying to concatenate x and v\n",
        "error_message = try_concatenate_x_and_v(x, v)\n",
        "print(\"\\nError when trying to concatenate x and v:\", error_message)\n"
      ]
    },
    {
      "cell_type": "markdown",
      "source": [
        "Problem - 4: Matrix Operations:\n",
        "• For the following arrays:\n",
        "A = np.array([[3,4],[7,8]]) and B = np.array([[5,3],[2,1]]);\n",
        "Prove following with Numpy:\n",
        "1. Prove A.A−1 = I.\n",
        "2. Prove AB ̸= BA.\n",
        "3. Prove (AB)\n",
        "\n",
        "T = BTAT\n",
        ".\n",
        "\n",
        "• Solve the following system of Linear equation using Inverse Methods.\n",
        "\n",
        "2x − 3y + z = −1\n",
        "x − y + 2z = −3\n",
        "3x + y − z = 9\n",
        "\n",
        "{Hint: First use Numpy array to represent the equation in Matrix form. Then Solve for: AX = B}\n",
        "\n",
        "• Now: solve the above equation using np.linalg.inv function.{Explore more about ”linalg” func-\n",
        "tion of Numpy}"
      ],
      "metadata": {
        "id": "oQsGsTJJ2NJr"
      },
      "id": "oQsGsTJJ2NJr"
    },
    {
      "cell_type": "code",
      "execution_count": 21,
      "id": "0a158612-fae2-4142-b5ae-d8c09b381428",
      "metadata": {
        "id": "0a158612-fae2-4142-b5ae-d8c09b381428",
        "outputId": "5d58e507-8425-491f-dc57-d33ec65bbcc8",
        "colab": {
          "base_uri": "https://localhost:8080/"
        }
      },
      "outputs": [
        {
          "output_type": "stream",
          "name": "stdout",
          "text": [
            "A * A⁻¹ (Identity Matrix):\n",
            " [[1.00000000e+00 0.00000000e+00]\n",
            " [1.77635684e-15 1.00000000e+00]]\n",
            "\n",
            "AB = \n",
            " [[23 13]\n",
            " [51 29]]\n",
            "BA = \n",
            " [[36 44]\n",
            " [13 16]]\n",
            "\n",
            "AB ≠ BA:  True\n",
            "\n",
            "(AB)ᵀ = \n",
            " [[23 51]\n",
            " [13 29]]\n",
            "BᵀAᵀ = \n",
            " [[23 51]\n",
            " [13 29]]\n",
            "\n",
            "(AB)ᵀ = BᵀAᵀ:  True\n",
            "\n",
            "Solution for the system of equations (using inverse method): [ 2.  1. -2.]\n",
            "\n",
            "Solution using np.linalg.solve: [ 2.  1. -2.]\n"
          ]
        }
      ],
      "source": [
        "#Num-py Problem Number-4\n",
        "\n",
        "\n",
        "# Define the arrays\n",
        "A = np.array([[3, 4], [7, 8]])  # 2x2 matrix A\n",
        "B = np.array([[5, 3], [2, 1]])  # 2x2 matrix B\n",
        "\n",
        "# 1. Prove A.A⁻¹ = I (Identity Matrix)\n",
        "def prove_identity(A):\n",
        "    \"\"\"\n",
        "    Proves that A * A⁻¹ = Identity matrix.\n",
        "\n",
        "    Args:\n",
        "    A (numpy.ndarray): A square matrix.\n",
        "\n",
        "    Returns:\n",
        "    numpy.ndarray: Identity matrix.\n",
        "    \"\"\"\n",
        "    A_inv = np.linalg.inv(A)  # Inverse of A\n",
        "    I = np.dot(A, A_inv)  # Matrix multiplication of A and A⁻¹\n",
        "    return I\n",
        "\n",
        "identity_matrix = prove_identity(A)\n",
        "print(\"A * A⁻¹ (Identity Matrix):\\n\", identity_matrix)\n",
        "\n",
        "# 2. Prove AB ≠ BA (Matrix multiplication is not commutative)\n",
        "def prove_non_commutative(A, B):\n",
        "    \"\"\"\n",
        "    Proves that AB ≠ BA.\n",
        "\n",
        "    Args:\n",
        "    A (numpy.ndarray): Matrix A.\n",
        "    B (numpy.ndarray): Matrix B.\n",
        "\n",
        "    Returns:\n",
        "    tuple: AB and BA results.\n",
        "    \"\"\"\n",
        "    AB = np.dot(A, B)\n",
        "    BA = np.dot(B, A)\n",
        "    return AB, BA\n",
        "\n",
        "AB, BA = prove_non_commutative(A, B)\n",
        "print(\"\\nAB = \\n\", AB)\n",
        "print(\"BA = \\n\", BA)\n",
        "print(\"\\nAB ≠ BA: \", not np.array_equal(AB, BA))\n",
        "\n",
        "# 3. Prove (AB)ᵀ = BᵀAᵀ (Transpose of a product)\n",
        "def prove_transpose_product(A, B):\n",
        "    \"\"\"\n",
        "    Proves that (AB)ᵀ = BᵀAᵀ.\n",
        "\n",
        "    Args:\n",
        "    A (numpy.ndarray): Matrix A.\n",
        "    B (numpy.ndarray): Matrix B.\n",
        "\n",
        "    Returns:\n",
        "    tuple: (AB)ᵀ and BᵀAᵀ results.\n",
        "    \"\"\"\n",
        "    AB_transpose = np.transpose(np.dot(A, B))\n",
        "    B_transpose_A_transpose = np.dot(np.transpose(B), np.transpose(A))\n",
        "    return AB_transpose, B_transpose_A_transpose\n",
        "\n",
        "AB_transpose, B_transpose_A_transpose = prove_transpose_product(A, B)\n",
        "print(\"\\n(AB)ᵀ = \\n\", AB_transpose)\n",
        "print(\"BᵀAᵀ = \\n\", B_transpose_A_transpose)\n",
        "print(\"\\n(AB)ᵀ = BᵀAᵀ: \", np.array_equal(AB_transpose, B_transpose_A_transpose))\n",
        "\n",
        "# 4. Solve the system of linear equations using Inverse Method\n",
        "# System of equations:\n",
        "# 2x - 3y + z = -1\n",
        "# x - y + 2z = -3\n",
        "# 3x + y - z = 9\n",
        "\n",
        "# Represent the system in matrix form: AX = B\n",
        "A_matrix = np.array([[2, -3, 1], [1, -1, 2], [3, 1, -1]])  # Coefficient matrix A\n",
        "B_matrix = np.array([-1, -3, 9])  # Constants vector B\n",
        "\n",
        "# Solve for X using inverse method: X = A⁻¹ * B\n",
        "def solve_linear_system(A_matrix, B_matrix):\n",
        "    \"\"\"\n",
        "    Solves the linear system of equations using inverse method.\n",
        "\n",
        "    Args:\n",
        "    A_matrix (numpy.ndarray): Coefficient matrix.\n",
        "    B_matrix (numpy.ndarray): Constants vector.\n",
        "\n",
        "    Returns:\n",
        "    numpy.ndarray: Solution vector X (values for x, y, z).\n",
        "    \"\"\"\n",
        "    A_inv = np.linalg.inv(A_matrix)  # Inverse of matrix A\n",
        "    X = np.dot(A_inv, B_matrix)  # Solving for X\n",
        "    return X\n",
        "\n",
        "solution = solve_linear_system(A_matrix, B_matrix)\n",
        "print(\"\\nSolution for the system of equations (using inverse method):\", solution)\n",
        "\n",
        "# 5. Solve the system of linear equations using np.linalg.inv function directly\n",
        "def solve_using_linalg(A_matrix, B_matrix):\n",
        "    \"\"\"\n",
        "    Solves the linear system of equations using np.linalg.inv directly.\n",
        "\n",
        "    Args:\n",
        "    A_matrix (numpy.ndarray): Coefficient matrix.\n",
        "    B_matrix (numpy.ndarray): Constants vector.\n",
        "\n",
        "    Returns:\n",
        "    numpy.ndarray: Solution vector X.\n",
        "    \"\"\"\n",
        "    X_linalg = np.linalg.solve(A_matrix, B_matrix)  # Using np.linalg.solve to solve AX = B\n",
        "    return X_linalg\n",
        "\n",
        "solution_linalg = solve_using_linalg(A_matrix, B_matrix)\n",
        "print(\"\\nSolution using np.linalg.solve:\", solution_linalg)\n"
      ]
    },
    {
      "cell_type": "markdown",
      "source": [
        "In this exercise, you will compare the performance and implementation of operations using plain Python\n",
        "lists (arrays) and NumPy arrays. Follow the instructions:\n",
        "1. Element-wise Addition:\n",
        "• Using Python Lists, perform element-wise addition of two lists of size 1, 000, 000. Measure\n",
        "and Print the time taken for this operation.\n",
        "• Using Numpy Arrays, Repeat the calculation and measure and print the time taken for\n",
        "this operation.\n",
        "2. Element-wise Multiplication\n",
        "• Using Python Lists, perform element-wise multiplication of two lists of size 1, 000, 000.\n",
        "Measure and Print the time taken for this operation.\n",
        "• Using Numpy Arrays, Repeat the calculation and measure and print the time taken for\n",
        "this operation.\n",
        "3. Dot Product\n",
        "• Using Python Lists, compute the dot product of two lists of size 1, 000, 000. Measure and\n",
        "Print the time taken for this operation.\n",
        "• Using Numpy Arrays, Repeat the calculation and measure and print the time taken for\n",
        "this operation.\n",
        "4. Matrix Multiplication\n",
        "\n",
        "• Using Python lists, perform matrix multiplication of two matrices of size 1000x1000. Mea-\n",
        "sure and print the time taken for this operation.\n",
        "\n",
        "• Using NumPy arrays, perform matrix multiplication of two matrices of size 1000x1000.\n",
        "Measure and print the time taken for this operation."
      ],
      "metadata": {
        "id": "dV_Nsc442vKy"
      },
      "id": "dV_Nsc442vKy"
    },
    {
      "cell_type": "code",
      "execution_count": 22,
      "id": "df987823-afc7-4736-8f14-ab3e7a3b7c8c",
      "metadata": {
        "id": "df987823-afc7-4736-8f14-ab3e7a3b7c8c",
        "outputId": "aac8d533-327b-4a9c-c7b0-e9dc6c139972",
        "colab": {
          "base_uri": "https://localhost:8080/"
        }
      },
      "outputs": [
        {
          "output_type": "stream",
          "name": "stdout",
          "text": [
            "A * A⁻¹ (Identity Matrix):\n",
            " [[1.00000000e+00 0.00000000e+00]\n",
            " [1.77635684e-15 1.00000000e+00]]\n",
            "\n",
            "AB = \n",
            " [[23 13]\n",
            " [51 29]]\n",
            "BA = \n",
            " [[36 44]\n",
            " [13 16]]\n",
            "\n",
            "AB ≠ BA:  True\n",
            "\n",
            "(AB)ᵀ = \n",
            " [[23 51]\n",
            " [13 29]]\n",
            "BᵀAᵀ = \n",
            " [[23 51]\n",
            " [13 29]]\n",
            "\n",
            "(AB)ᵀ = BᵀAᵀ:  True\n",
            "\n",
            "Solution for the system of equations (using inverse method): [ 2.  1. -2.]\n",
            "\n",
            "Solution using np.linalg.solve: [ 2.  1. -2.]\n"
          ]
        }
      ],
      "source": [
        "#Expermental questions\n",
        "import numpy as np\n",
        "\n",
        "# Define the arrays\n",
        "A = np.array([[3, 4], [7, 8]])  # 2x2 matrix A\n",
        "B = np.array([[5, 3], [2, 1]])  # 2x2 matrix B\n",
        "\n",
        "# 1. Prove A.A⁻¹ = I (Identity Matrix)\n",
        "def prove_identity(A):\n",
        "    \"\"\"\n",
        "    Proves that A * A⁻¹ = Identity matrix.\n",
        "\n",
        "    Args:\n",
        "    A (numpy.ndarray): A square matrix.\n",
        "\n",
        "    Returns:\n",
        "    numpy.ndarray: Identity matrix.\n",
        "    \"\"\"\n",
        "    A_inv = np.linalg.inv(A)  # Inverse of A\n",
        "    I = np.dot(A, A_inv)  # Matrix multiplication of A and A⁻¹\n",
        "    return I\n",
        "\n",
        "identity_matrix = prove_identity(A)\n",
        "print(\"A * A⁻¹ (Identity Matrix):\\n\", identity_matrix)\n",
        "\n",
        "# 2. Prove AB ≠ BA (Matrix multiplication is not commutative)\n",
        "def prove_non_commutative(A, B):\n",
        "    \"\"\"\n",
        "    Proves that AB ≠ BA.\n",
        "\n",
        "    Args:\n",
        "    A (numpy.ndarray): Matrix A.\n",
        "    B (numpy.ndarray): Matrix B.\n",
        "\n",
        "    Returns:\n",
        "    tuple: AB and BA results.\n",
        "    \"\"\"\n",
        "    AB = np.dot(A, B)\n",
        "    BA = np.dot(B, A)\n",
        "    return AB, BA\n",
        "\n",
        "AB, BA = prove_non_commutative(A, B)\n",
        "print(\"\\nAB = \\n\", AB)\n",
        "print(\"BA = \\n\", BA)\n",
        "print(\"\\nAB ≠ BA: \", not np.array_equal(AB, BA))\n",
        "\n",
        "# 3. Prove (AB)ᵀ = BᵀAᵀ (Transpose of a product)\n",
        "def prove_transpose_product(A, B):\n",
        "    \"\"\"\n",
        "    Proves that (AB)ᵀ = BᵀAᵀ.\n",
        "\n",
        "    Args:\n",
        "    A (numpy.ndarray): Matrix A.\n",
        "    B (numpy.ndarray): Matrix B.\n",
        "\n",
        "    Returns:\n",
        "    tuple: (AB)ᵀ and BᵀAᵀ results.\n",
        "    \"\"\"\n",
        "    AB_transpose = np.transpose(np.dot(A, B))\n",
        "    B_transpose_A_transpose = np.dot(np.transpose(B), np.transpose(A))\n",
        "    return AB_transpose, B_transpose_A_transpose\n",
        "\n",
        "AB_transpose, B_transpose_A_transpose = prove_transpose_product(A, B)\n",
        "print(\"\\n(AB)ᵀ = \\n\", AB_transpose)\n",
        "print(\"BᵀAᵀ = \\n\", B_transpose_A_transpose)\n",
        "print(\"\\n(AB)ᵀ = BᵀAᵀ: \", np.array_equal(AB_transpose, B_transpose_A_transpose))\n",
        "\n",
        "# 4. Solve the system of linear equations using Inverse Method\n",
        "# System of equations:\n",
        "# 2x - 3y + z = -1\n",
        "# x - y + 2z = -3\n",
        "# 3x + y - z = 9\n",
        "\n",
        "# Represent the system in matrix form: AX = B\n",
        "A_matrix = np.array([[2, -3, 1], [1, -1, 2], [3, 1, -1]])  # Coefficient matrix A\n",
        "B_matrix = np.array([-1, -3, 9])  # Constants vector B\n",
        "\n",
        "# Solve for X using inverse method: X = A⁻¹ * B\n",
        "def solve_linear_system(A_matrix, B_matrix):\n",
        "    \"\"\"\n",
        "    Solves the linear system of equations using inverse method.\n",
        "\n",
        "    Args:\n",
        "    A_matrix (numpy.ndarray): Coefficient matrix.\n",
        "    B_matrix (numpy.ndarray): Constants vector.\n",
        "\n",
        "    Returns:\n",
        "    numpy.ndarray: Solution vector X (values for x, y, z).\n",
        "    \"\"\"\n",
        "    A_inv = np.linalg.inv(A_matrix)  # Inverse of matrix A\n",
        "    X = np.dot(A_inv, B_matrix)  # Solving for X\n",
        "    return X\n",
        "\n",
        "solution = solve_linear_system(A_matrix, B_matrix)\n",
        "print(\"\\nSolution for the system of equations (using inverse method):\", solution)\n",
        "\n",
        "# 5. Solve the system of linear equations using np.linalg.solve function directly\n",
        "def solve_using_linalg(A_matrix, B_matrix):\n",
        "    \"\"\"\n",
        "    Solves the linear system of equations using np.linalg.inv directly.\n",
        "\n",
        "    Args:\n",
        "    A_matrix (numpy.ndarray): Coefficient matrix.\n",
        "    B_matrix (numpy.ndarray): Constants vector.\n",
        "\n",
        "    Returns:\n",
        "    numpy.ndarray: Solution vector X.\n",
        "    \"\"\"\n",
        "    X_linalg = np.linalg.solve(A_matrix, B_matrix)  # Using np.linalg.solve to solve AX = B\n",
        "    return X_linalg\n",
        "\n",
        "solution_linalg = solve_using_linalg(A_matrix, B_matrix)\n",
        "print(\"\\nSolution using np.linalg.solve:\", solution_linalg)\n"
      ]
    },
    {
      "cell_type": "code",
      "execution_count": null,
      "id": "229c9a7a-7018-49a4-8a7a-ffbfef322623",
      "metadata": {
        "id": "229c9a7a-7018-49a4-8a7a-ffbfef322623"
      },
      "outputs": [],
      "source": []
    }
  ],
  "metadata": {
    "kernelspec": {
      "display_name": "Python [conda env:base] *",
      "language": "python",
      "name": "conda-base-py"
    },
    "language_info": {
      "codemirror_mode": {
        "name": "ipython",
        "version": 3
      },
      "file_extension": ".py",
      "mimetype": "text/x-python",
      "name": "python",
      "nbconvert_exporter": "python",
      "pygments_lexer": "ipython3",
      "version": "3.12.7"
    },
    "colab": {
      "provenance": []
    }
  },
  "nbformat": 4,
  "nbformat_minor": 5
}