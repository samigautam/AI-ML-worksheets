{
  "nbformat": 4,
  "nbformat_minor": 0,
  "metadata": {
    "colab": {
      "provenance": []
    },
    "kernelspec": {
      "name": "python3",
      "display_name": "Python 3"
    },
    "language_info": {
      "name": "python"
    }
  },
  "cells": [
    {
      "cell_type": "markdown",
      "metadata": {
        "id": "IY-_Zy_b71lD"
      },
      "source": [
        "# Implementation of MCP Neuron for AND and OR Function."
      ]
    },
    {
      "cell_type": "code",
      "execution_count": 41,
      "metadata": {
        "id": "Fu-YDOe_8GJi"
      },
      "outputs": [],
      "source": [
        "def MCP_Neurons_AND(X1, X2, T):\n",
        "  \"\"\"\n",
        "  This functions implements basic AND operations with MCP Neuron for two inputs.\n",
        "  Arguments:\n",
        "  Inputs:\n",
        "  X1 (1 nd array): An array of binary values.\n",
        "  X2 (1 nd array): An array of binary values.\n",
        "  Output:\n",
        "  state_neuron(1D-list): An state of neuron 1 0r 0 for the particular inputs.\n",
        "  \"\"\"\n",
        "  assert len(X1) == len(X2), \"Input arrays must be of the same length.\"\n",
        "\n",
        "  state_neuron = []  # List to store neuron outputs\n",
        "\n",
        "  for x1, x2 in zip(X1, X2):\n",
        "        sum_inputs = x1 + x2  # Perform element-wise addition\n",
        "        if sum_inputs >= T:\n",
        "            state_neuron.append(1)  # Activate neuron\n",
        "        else:\n",
        "            state_neuron.append(0)  # Do not activate neuron\n",
        "\n",
        "  return state_neuron"
      ]
    },
    {
      "cell_type": "code",
      "execution_count": 42,
      "metadata": {
        "colab": {
          "base_uri": "https://localhost:8080/"
        },
        "id": "e2-lKfat8ocN",
        "outputId": "7ad722ec-b1e4-4b2f-98a9-541964e6920b"
      },
      "outputs": [
        {
          "output_type": "stream",
          "name": "stdout",
          "text": [
            "Output of AND gate for inputs [0, 0, 1, 1] and [0, 1, 0, 1] with threshold 2: [0, 0, 0, 1]\n"
          ]
        }
      ],
      "source": [
        "# Example usage for MCP_Neurons_AND function\n",
        "X1 = [0, 0, 1, 1]\n",
        "X2 = [0, 1, 0, 1]\n",
        "T = 2  # Threshold value\n",
        "\n",
        "# Call the MCP_Neurons_AND function\n",
        "result = MCP_Neurons_AND(X1, X2, T)\n",
        "\n",
        "# Print the result\n",
        "print(f\"Output of AND gate for inputs {X1} and {X2} with threshold {T}: {result}\")\n"
      ]
    },
    {
      "cell_type": "code",
      "execution_count": 43,
      "metadata": {
        "id": "7xaMXlLT9FHC"
      },
      "outputs": [],
      "source": [
        "def MCP_Neurons_OR(X1, X2, T):\n",
        "    \"\"\"\n",
        "    This function implements basic OR operations with MCP Neuron for two inputs.\n",
        "    Arguments:\n",
        "    Inputs:\n",
        "    X1 (1D array): An array of binary values.\n",
        "    X2 (1D array): An array of binary values.\n",
        "    Output:\n",
        "    state_neuron (1D list): The state of the neuron (1 or 0) for the particular inputs.\n",
        "    \"\"\"\n",
        "    assert len(X1) == len(X2)\n",
        "    state_neuron = []  # List to store neuron outputs\n",
        "\n",
        "    for x1, x2 in zip(X1, X2):\n",
        "        sum_inputs = x1 + x2  # Perform element-wise addition\n",
        "        if sum_inputs >= T:\n",
        "            state_neuron.append(1)  # Activate neuron (1)\n",
        "        else:\n",
        "            state_neuron.append(0)  # Do not activate neuron (0)\n",
        "\n",
        "    return state_neuron\n"
      ]
    },
    {
      "cell_type": "code",
      "execution_count": 44,
      "metadata": {
        "colab": {
          "base_uri": "https://localhost:8080/"
        },
        "id": "6H-YOy268_Jo",
        "outputId": "2155ebbc-cdfd-486f-def3-f22d9ee73216"
      },
      "outputs": [
        {
          "output_type": "stream",
          "name": "stdout",
          "text": [
            "Output of OR gate for inputs [0, 0, 1, 1] and [0, 1, 0, 1] with threshold 1: [0, 1, 1, 1]\n"
          ]
        }
      ],
      "source": [
        "# Example usage for MCP_Neurons_OR function\n",
        "X1 = [0, 0, 1, 1]\n",
        "X2 = [0, 1, 0, 1]\n",
        "T = 1  # Threshold value for OR gate\n",
        "\n",
        "# Call the MCP_Neurons_OR function\n",
        "result_or = MCP_Neurons_OR(X1, X2, T)\n",
        "\n",
        "# Print the result\n",
        "print(f\"Output of OR gate for inputs {X1} and {X2} with threshold {T}: {result_or}\")\n"
      ]
    },
    {
      "cell_type": "markdown",
      "metadata": {
        "id": "Apa9bfLIFJHe"
      },
      "source": [
        "# Implementation for 0 Vs. 1 Classification."
      ]
    },
    {
      "cell_type": "markdown",
      "metadata": {
        "id": "iom83mGLFP_1"
      },
      "source": [
        "## Step 1: Load the Dataset"
      ]
    },
    {
      "cell_type": "code",
      "source": [
        "from google.colab import drive\n",
        "drive.mount('/content/drive')"
      ],
      "metadata": {
        "colab": {
          "base_uri": "https://localhost:8080/"
        },
        "id": "MHZFyKliXv0W",
        "outputId": "722d80c2-d070-4f05-c7e5-8f28c1d5757d"
      },
      "execution_count": 2,
      "outputs": [
        {
          "output_type": "stream",
          "name": "stdout",
          "text": [
            "Mounted at /content/drive\n"
          ]
        }
      ]
    },
    {
      "cell_type": "code",
      "execution_count": 3,
      "metadata": {
        "colab": {
          "base_uri": "https://localhost:8080/"
        },
        "id": "7rkW58ct9IYq",
        "outputId": "ae1667d6-3854-442f-a05d-02dc6060198f"
      },
      "outputs": [
        {
          "output_type": "stream",
          "name": "stdout",
          "text": [
            "Feature matrix shape: (12665, 784)\n",
            "Label vector shape: (12665,)\n"
          ]
        }
      ],
      "source": [
        "import pandas as pd\n",
        "import numpy as np\n",
        "import matplotlib.pyplot as plt\n",
        "\n",
        "\n",
        "# Load the dataset\n",
        "df_0_1 = pd.read_csv(\"/content/drive/MyDrive/AIML/mnist_0_and_1.csv\" )  # Add the correct file path if necessary\n",
        "\n",
        "# Extract features and labels\n",
        "X = df_0_1.drop(columns=[\"label\"]).values  # 784 pixels\n",
        "y = df_0_1[\"label\"].values  # Labels (0 or 1)\n",
        "\n",
        "# Check the shape of the features and labels\n",
        "print(\"Feature matrix shape:\", X.shape)\n",
        "print(\"Label vector shape:\", y.shape)\n"
      ]
    },
    {
      "cell_type": "markdown",
      "metadata": {
        "id": "jlq0EY2jHheD"
      },
      "source": [
        "### Viewing the Dataset."
      ]
    },
    {
      "cell_type": "code",
      "execution_count": 4,
      "metadata": {
        "colab": {
          "base_uri": "https://localhost:8080/",
          "height": 451
        },
        "id": "XKY2qjhCHAZ7",
        "outputId": "70823cc4-5ab5-492c-8e5d-c5abc4febebc"
      },
      "outputs": [
        {
          "output_type": "display_data",
          "data": {
            "text/plain": [
              "<Figure size 1000x500 with 10 Axes>"
            ],
            "image/png": "[encoded data removed]"
          },
          "metadata": {}
        }
      ],
      "source": [
        "# Separate images for label 0 and label 1\n",
        "images_0 = X[y == 0]  # Get all images with label 0\n",
        "images_1 = X[y == 1]  # Get all images with label 1\n",
        "\n",
        "fig, axes = plt.subplots(2, 5, figsize=(10, 5))\n",
        "\n",
        "# Check if the arrays have the required amount of data\n",
        "if len(images_0) < 5 or len(images_1) < 5:\n",
        "    print(\"Error: Not enough images in images_0 or images_1 to plot 5 images.\")\n",
        "else:\n",
        "    for i in range(5):\n",
        "        # Plot digit 0\n",
        "        axes[0, i].imshow(images_0[i].reshape(28, 28), cmap=\"gray\")\n",
        "        axes[0, i].set_title(\"Label: 0\")\n",
        "        axes[0, i].axis(\"off\")\n",
        "        # Plot digit 1\n",
        "        axes[1, i].imshow(images_1[i].reshape(28, 28), cmap=\"gray\")\n",
        "        axes[1, i].set_title(\"Label: 1\")\n",
        "        axes[1, i].axis(\"off\")\n",
        "    plt.suptitle(\"First 5 Images of 0 and 1 from MNIST Subset\")\n",
        "    plt.show()"
      ]
    },
    {
      "cell_type": "markdown",
      "metadata": {
        "id": "qyM34tbHIqGi"
      },
      "source": [
        "## Step - 2 - Initializing the Weights:"
      ]
    },
    {
      "cell_type": "code",
      "execution_count": 5,
      "metadata": {
        "id": "SMsXaZ38HfBI"
      },
      "outputs": [],
      "source": [
        "# Initialize weights and bias\n",
        "weights = np.zeros(X.shape[1])  # 784 weights (one for each pixel)\n",
        "bias = 0\n",
        "learning_rate = 0.1\n",
        "epochs = 100"
      ]
    },
    {
      "cell_type": "markdown",
      "metadata": {
        "id": "EvraDxaeRVeo"
      },
      "source": [
        "## Step - 3 - Make a Decision function:"
      ]
    },
    {
      "cell_type": "code",
      "execution_count": 7,
      "metadata": {
        "id": "6uVj75txLWQi"
      },
      "outputs": [],
      "source": [
        "import numpy as np\n",
        "\n",
        "def decision_function(X, weights, bias):\n",
        "    \"\"\"\n",
        "    Compute the predicted labels for the input data.\n",
        "\n",
        "    Parameters:\n",
        "    - X: Features (input data) as a numpy array of shape (n_samples, n_features)\n",
        "    - weights: Updated weights after training\n",
        "    - bias: Updated bias after training\n",
        "\n",
        "    Returns:\n",
        "    - y_pred_all: The predicted labels for the input data\n",
        "    \"\"\"\n",
        "    predictions = np.dot(X, weights) + bias\n",
        "    y_pred_all = np.where(predictions >= 0, 1, 0)\n",
        "    return y_pred_all"
      ]
    },
    {
      "cell_type": "markdown",
      "metadata": {
        "id": "AVZNGyRdI4I4"
      },
      "source": [
        "## Step - 3 - Implement the Perceptron Learning Algorithm"
      ]
    },
    {
      "cell_type": "code",
      "execution_count": 11,
      "metadata": {
        "id": "Dg1ocrycJWpA"
      },
      "outputs": [],
      "source": [
        "def train_perceptron(X, y, weights, bias, learning_rate=0.1, epochs=100):\n",
        "    \"\"\"\n",
        "    Train the perceptron using the Perceptron Learning Algorithm.\n",
        "\n",
        "    Parameters:\n",
        "    - X: Features (input data) as a numpy array of shape (n_samples, n_features)\n",
        "    - y: Labels (true output) as a numpy array of shape (n_samples,)\n",
        "    - weights: Initial weights as a numpy array of shape (n_features,)\n",
        "    - bias: Initial bias value (scalar)\n",
        "    - learning_rate: Learning rate for weight updates (default is 0.1)\n",
        "    - epochs: Number of iterations to train the model (default is 100)\n",
        "\n",
        "    Returns:\n",
        "    - weights: Updated weights after training\n",
        "    - bias: Updated bias after training\n",
        "    - accuracy: Total correct prediction.\n",
        "    \"\"\"\n",
        "    n_samples = X.shape[0]  # Number of samples\n",
        "\n",
        "    for epoch in range(epochs):\n",
        "        correct_predictions = 0  # Track the number of correct classifications\n",
        "\n",
        "        for i in range(n_samples):\n",
        "            # Compute the weighted sum (linear combination)\n",
        "            prediction = np.dot(X[i], weights) + bias\n",
        "            # Apply step function activation\n",
        "            y_pred = 1 if prediction >= 0 else 0\n",
        "\n",
        "            # Perceptron weight update rule\n",
        "            if y_pred != y[i]:  # If misclassified\n",
        "                update = learning_rate * (y[i] - y_pred)\n",
        "                weights += update * X[i]  # Adjust weights\n",
        "                bias += update  # Adjust bias\n",
        "            else:\n",
        "                correct_predictions += 1  # Correct classification\n",
        "\n",
        "        # Compute accuracy for the current epoch\n",
        "        accuracy = (correct_predictions / n_samples) * 100\n",
        "        print(f\"Epoch {epoch + 1}: Accuracy = {accuracy:.2f}%\")\n",
        "\n",
        "\n",
        "    return weights, bias, accuracy"
      ]
    },
    {
      "cell_type": "markdown",
      "metadata": {
        "id": "Va6AGI6iMAG9"
      },
      "source": [
        "## Training the Perceptron"
      ]
    },
    {
      "cell_type": "code",
      "execution_count": 12,
      "metadata": {
        "colab": {
          "base_uri": "https://localhost:8080/"
        },
        "id": "cn8XBYuZLswI",
        "outputId": "eab4a3d8-ad9b-4bcd-9adc-0787085aa2ca"
      },
      "outputs": [
        {
          "output_type": "stream",
          "name": "stdout",
          "text": [
            "Epoch 1: Accuracy = 99.67%\n",
            "Epoch 2: Accuracy = 99.82%\n",
            "Epoch 3: Accuracy = 99.87%\n",
            "Epoch 4: Accuracy = 99.87%\n",
            "Epoch 5: Accuracy = 99.90%\n",
            "Epoch 6: Accuracy = 99.93%\n",
            "Epoch 7: Accuracy = 99.98%\n",
            "Epoch 8: Accuracy = 99.95%\n",
            "Epoch 9: Accuracy = 99.89%\n",
            "Epoch 10: Accuracy = 99.92%\n",
            "Epoch 11: Accuracy = 99.95%\n",
            "Epoch 12: Accuracy = 99.98%\n",
            "Epoch 13: Accuracy = 100.00%\n",
            "Epoch 14: Accuracy = 100.00%\n",
            "Epoch 15: Accuracy = 100.00%\n",
            "Epoch 16: Accuracy = 100.00%\n",
            "Epoch 17: Accuracy = 100.00%\n",
            "Epoch 18: Accuracy = 100.00%\n",
            "Epoch 19: Accuracy = 100.00%\n",
            "Epoch 20: Accuracy = 100.00%\n",
            "Epoch 21: Accuracy = 100.00%\n",
            "Epoch 22: Accuracy = 100.00%\n",
            "Epoch 23: Accuracy = 100.00%\n",
            "Epoch 24: Accuracy = 100.00%\n",
            "Epoch 25: Accuracy = 100.00%\n",
            "Epoch 26: Accuracy = 100.00%\n",
            "Epoch 27: Accuracy = 100.00%\n",
            "Epoch 28: Accuracy = 100.00%\n",
            "Epoch 29: Accuracy = 100.00%\n",
            "Epoch 30: Accuracy = 100.00%\n",
            "Epoch 31: Accuracy = 100.00%\n",
            "Epoch 32: Accuracy = 100.00%\n",
            "Epoch 33: Accuracy = 100.00%\n",
            "Epoch 34: Accuracy = 100.00%\n",
            "Epoch 35: Accuracy = 100.00%\n",
            "Epoch 36: Accuracy = 100.00%\n",
            "Epoch 37: Accuracy = 100.00%\n",
            "Epoch 38: Accuracy = 100.00%\n",
            "Epoch 39: Accuracy = 100.00%\n",
            "Epoch 40: Accuracy = 100.00%\n",
            "Epoch 41: Accuracy = 100.00%\n",
            "Epoch 42: Accuracy = 100.00%\n",
            "Epoch 43: Accuracy = 100.00%\n",
            "Epoch 44: Accuracy = 100.00%\n",
            "Epoch 45: Accuracy = 100.00%\n",
            "Epoch 46: Accuracy = 100.00%\n",
            "Epoch 47: Accuracy = 100.00%\n",
            "Epoch 48: Accuracy = 100.00%\n",
            "Epoch 49: Accuracy = 100.00%\n",
            "Epoch 50: Accuracy = 100.00%\n",
            "Epoch 51: Accuracy = 100.00%\n",
            "Epoch 52: Accuracy = 100.00%\n",
            "Epoch 53: Accuracy = 100.00%\n",
            "Epoch 54: Accuracy = 100.00%\n",
            "Epoch 55: Accuracy = 100.00%\n",
            "Epoch 56: Accuracy = 100.00%\n",
            "Epoch 57: Accuracy = 100.00%\n",
            "Epoch 58: Accuracy = 100.00%\n",
            "Epoch 59: Accuracy = 100.00%\n",
            "Epoch 60: Accuracy = 100.00%\n",
            "Epoch 61: Accuracy = 100.00%\n",
            "Epoch 62: Accuracy = 100.00%\n",
            "Epoch 63: Accuracy = 100.00%\n",
            "Epoch 64: Accuracy = 100.00%\n",
            "Epoch 65: Accuracy = 100.00%\n",
            "Epoch 66: Accuracy = 100.00%\n",
            "Epoch 67: Accuracy = 100.00%\n",
            "Epoch 68: Accuracy = 100.00%\n",
            "Epoch 69: Accuracy = 100.00%\n",
            "Epoch 70: Accuracy = 100.00%\n",
            "Epoch 71: Accuracy = 100.00%\n",
            "Epoch 72: Accuracy = 100.00%\n",
            "Epoch 73: Accuracy = 100.00%\n",
            "Epoch 74: Accuracy = 100.00%\n",
            "Epoch 75: Accuracy = 100.00%\n",
            "Epoch 76: Accuracy = 100.00%\n",
            "Epoch 77: Accuracy = 100.00%\n",
            "Epoch 78: Accuracy = 100.00%\n",
            "Epoch 79: Accuracy = 100.00%\n",
            "Epoch 80: Accuracy = 100.00%\n",
            "Epoch 81: Accuracy = 100.00%\n",
            "Epoch 82: Accuracy = 100.00%\n",
            "Epoch 83: Accuracy = 100.00%\n",
            "Epoch 84: Accuracy = 100.00%\n",
            "Epoch 85: Accuracy = 100.00%\n",
            "Epoch 86: Accuracy = 100.00%\n",
            "Epoch 87: Accuracy = 100.00%\n",
            "Epoch 88: Accuracy = 100.00%\n",
            "Epoch 89: Accuracy = 100.00%\n",
            "Epoch 90: Accuracy = 100.00%\n",
            "Epoch 91: Accuracy = 100.00%\n",
            "Epoch 92: Accuracy = 100.00%\n",
            "Epoch 93: Accuracy = 100.00%\n",
            "Epoch 94: Accuracy = 100.00%\n",
            "Epoch 95: Accuracy = 100.00%\n",
            "Epoch 96: Accuracy = 100.00%\n",
            "Epoch 97: Accuracy = 100.00%\n",
            "Epoch 98: Accuracy = 100.00%\n",
            "Epoch 99: Accuracy = 100.00%\n",
            "Epoch 100: Accuracy = 100.00%\n",
            "The Final Accuracy is:  100.0\n"
          ]
        }
      ],
      "source": [
        "# After training the model with the perceptron_learning_algorithm\n",
        "weights, bias, accuracy = train_perceptron(X, y, weights, bias)\n",
        "\n",
        "# Evaluate the model using the new function\n",
        "print(\"The Final Accuracy is: \", accuracy)"
      ]
    },
    {
      "cell_type": "markdown",
      "metadata": {
        "id": "-SLq1jbSMKPm"
      },
      "source": [
        "## Step 5: Visualize Misclassified Images"
      ]
    },
    {
      "cell_type": "code",
      "execution_count": 13,
      "metadata": {
        "colab": {
          "base_uri": "https://localhost:8080/"
        },
        "id": "KAMz1RPGMN_A",
        "outputId": "1af24f8d-9931-4acd-b590-1b3ea8d64dde"
      },
      "outputs": [
        {
          "output_type": "stream",
          "name": "stdout",
          "text": [
            "Final Accuracy: 1.0000\n",
            "All images were correctly classified!\n"
          ]
        }
      ],
      "source": [
        "# Get predictions for all data points\n",
        "predictions = np.dot(X, weights) + bias\n",
        "y_pred = np.where(predictions >= 0, 1, 0)\n",
        "\n",
        "# Calculate final accuracy\n",
        "final_accuracy = np.mean(y_pred == y)\n",
        "print(f\"Final Accuracy: {final_accuracy:.4f}\")\n",
        "\n",
        "# Step 5: Visualize Misclassified Images\n",
        "misclassified_idx = np.where(y_pred != y)[0]\n",
        "if len(misclassified_idx) > 0:\n",
        "    fig, axes = plt.subplots(2, 5, figsize=(10, 5))\n",
        "    for ax, idx in zip(axes.flat, misclassified_idx[:10]):  # Show 10 misclassified images\n",
        "        ax.imshow(X[idx].reshape(28, 28), cmap=\"gray\")\n",
        "        ax.set_title(f\"Pred: {y_pred[idx]}, True: {y[idx]}\")\n",
        "        ax.axis(\"off\")\n",
        "    plt.suptitle(\"Misclassified Images\")\n",
        "    plt.show()\n",
        "else:\n",
        "    print(\"All images were correctly classified!\")"
      ]
    },
    {
      "cell_type": "markdown",
      "source": [
        "# For 3 and 5\n"
      ],
      "metadata": {
        "id": "EsRz1078dLW1"
      }
    },
    {
      "cell_type": "code",
      "execution_count": 27,
      "metadata": {
        "id": "eqEzk1mrWxYE",
        "outputId": "9a67d8e5-e4f5-4613-eb86-09ea32b54219",
        "colab": {
          "base_uri": "https://localhost:8080/"
        }
      },
      "outputs": [
        {
          "output_type": "stream",
          "name": "stdout",
          "text": [
            "Feature Matrix Shape: (2741, 784)\n",
            "Label Vector Shape: (2741,)\n"
          ]
        }
      ],
      "source": [
        "import pandas as pd\n",
        "import matplotlib.pyplot as plt\n",
        "\n",
        "\n",
        "df_3_5 = pd.read_csv(\"/content/drive/MyDrive/AIML/mnist_3_and_5.csv\")\n",
        "\n",
        "X = df_3_5.drop(columns=[\"label\"]).values\n",
        "y = df_3_5[\"label\"].values\n",
        "\n",
        "print(\"Feature Matrix Shape:\", X.shape)\n",
        "print(\"Label Vector Shape:\", y.shape)"
      ]
    },
    {
      "cell_type": "code",
      "execution_count": 30,
      "metadata": {
        "id": "1B2kFSOQWxYE",
        "outputId": "c2a2a820-f37e-4351-8c30-ad605a803ee7",
        "colab": {
          "base_uri": "https://localhost:8080/",
          "height": 451
        }
      },
      "outputs": [
        {
          "output_type": "display_data",
          "data": {
            "text/plain": [
              "<Figure size 1000x500 with 10 Axes>"
            ],
            "image/png": "[encoded data removed]"
          },
          "metadata": {}
        }
      ],
      "source": [
        "# Separate images for label 3 and label 5\n",
        "images_3 = X[y == 3]  # Get all images with label 3\n",
        "images_5 = X[y == 5]  # Get all images with label 5\n",
        "\n",
        "fig, axes = plt.subplots(2, 5, figsize=(10, 5))\n",
        "\n",
        "# Check if we have at least 5 images for each label\n",
        "if len(images_3) < 5 or len(images_5) < 5:\n",
        "    print(\"Error: Not enough images in images_3 or images_5 to plot 5 images.\")\n",
        "else:\n",
        "    for i in range(5):\n",
        "        # Plot digit 3\n",
        "        axes[0, i].imshow(images_3[i].reshape(28, 28), cmap=\"gray\")\n",
        "        axes[0, i].set_title(\"Label: 3\")\n",
        "        axes[0, i].axis(\"off\")\n",
        "\n",
        "        # Plot digit 5\n",
        "        axes[1, i].imshow(images_5[i].reshape(28, 28), cmap=\"gray\")\n",
        "        axes[1, i].set_title(\"Label: 5\")\n",
        "        axes[1, i].axis(\"off\")\n",
        "\n",
        "    plt.suptitle(\"First 5 Images of 3 and 5 from MNIST Subset\")\n",
        "    plt.show()"
      ]
    },
    {
      "cell_type": "code",
      "execution_count": 33,
      "metadata": {
        "id": "MYAVW4O-WxYG"
      },
      "outputs": [],
      "source": [
        "# Step 2: Initialize Perceptron Weights\n",
        "weights = np.zeros(X.shape[1])  # 784 weights (one per pixel)\n",
        "bias = 0\n",
        "learning_rate = 0.1\n",
        "epochs = 100"
      ]
    },
    {
      "cell_type": "code",
      "execution_count": 35,
      "metadata": {
        "id": "3Du3DoELWxYG"
      },
      "outputs": [],
      "source": [
        "def decision_function(X, weights, bias):\n",
        "    \"\"\"\n",
        "    Compute predicted labels using the perceptron decision function.\n",
        "    \"\"\"\n",
        "    predictions = np.dot(X, weights) + bias\n",
        "    return np.where(predictions >= 0, 1, 0)"
      ]
    },
    {
      "cell_type": "code",
      "execution_count": 36,
      "metadata": {
        "id": "wBKtWgQ6WxYG",
        "outputId": "78f4dc0c-4ee2-4085-efa5-bc28602fbc84",
        "colab": {
          "base_uri": "https://localhost:8080/"
        }
      },
      "outputs": [
        {
          "output_type": "stream",
          "name": "stdout",
          "text": [
            "Epoch 1: Accuracy = 0.00%\n",
            "Epoch 2: Accuracy = 0.00%\n",
            "Epoch 3: Accuracy = 0.00%\n",
            "Epoch 4: Accuracy = 0.00%\n",
            "Epoch 5: Accuracy = 0.00%\n",
            "Epoch 6: Accuracy = 0.00%\n",
            "Epoch 7: Accuracy = 0.00%\n",
            "Epoch 8: Accuracy = 0.00%\n",
            "Epoch 9: Accuracy = 0.00%\n",
            "Epoch 10: Accuracy = 0.00%\n",
            "Epoch 11: Accuracy = 0.00%\n",
            "Epoch 12: Accuracy = 0.00%\n",
            "Epoch 13: Accuracy = 0.00%\n",
            "Epoch 14: Accuracy = 0.00%\n",
            "Epoch 15: Accuracy = 0.00%\n",
            "Epoch 16: Accuracy = 0.00%\n",
            "Epoch 17: Accuracy = 0.00%\n",
            "Epoch 18: Accuracy = 0.00%\n",
            "Epoch 19: Accuracy = 0.00%\n",
            "Epoch 20: Accuracy = 0.00%\n",
            "Epoch 21: Accuracy = 0.00%\n",
            "Epoch 22: Accuracy = 0.00%\n",
            "Epoch 23: Accuracy = 0.00%\n",
            "Epoch 24: Accuracy = 0.00%\n",
            "Epoch 25: Accuracy = 0.00%\n",
            "Epoch 26: Accuracy = 0.00%\n",
            "Epoch 27: Accuracy = 0.00%\n",
            "Epoch 28: Accuracy = 0.00%\n",
            "Epoch 29: Accuracy = 0.00%\n",
            "Epoch 30: Accuracy = 0.00%\n",
            "Epoch 31: Accuracy = 0.00%\n",
            "Epoch 32: Accuracy = 0.00%\n",
            "Epoch 33: Accuracy = 0.00%\n",
            "Epoch 34: Accuracy = 0.00%\n",
            "Epoch 35: Accuracy = 0.00%\n",
            "Epoch 36: Accuracy = 0.00%\n",
            "Epoch 37: Accuracy = 0.00%\n",
            "Epoch 38: Accuracy = 0.00%\n",
            "Epoch 39: Accuracy = 0.00%\n",
            "Epoch 40: Accuracy = 0.00%\n",
            "Epoch 41: Accuracy = 0.00%\n",
            "Epoch 42: Accuracy = 0.00%\n",
            "Epoch 43: Accuracy = 0.00%\n",
            "Epoch 44: Accuracy = 0.00%\n",
            "Epoch 45: Accuracy = 0.00%\n",
            "Epoch 46: Accuracy = 0.00%\n",
            "Epoch 47: Accuracy = 0.00%\n",
            "Epoch 48: Accuracy = 0.00%\n",
            "Epoch 49: Accuracy = 0.00%\n",
            "Epoch 50: Accuracy = 0.00%\n",
            "Epoch 51: Accuracy = 0.00%\n",
            "Epoch 52: Accuracy = 0.00%\n",
            "Epoch 53: Accuracy = 0.00%\n",
            "Epoch 54: Accuracy = 0.00%\n",
            "Epoch 55: Accuracy = 0.00%\n",
            "Epoch 56: Accuracy = 0.00%\n",
            "Epoch 57: Accuracy = 0.00%\n",
            "Epoch 58: Accuracy = 0.00%\n",
            "Epoch 59: Accuracy = 0.00%\n",
            "Epoch 60: Accuracy = 0.00%\n",
            "Epoch 61: Accuracy = 0.00%\n",
            "Epoch 62: Accuracy = 0.00%\n",
            "Epoch 63: Accuracy = 0.00%\n",
            "Epoch 64: Accuracy = 0.00%\n",
            "Epoch 65: Accuracy = 0.00%\n",
            "Epoch 66: Accuracy = 0.00%\n",
            "Epoch 67: Accuracy = 0.00%\n",
            "Epoch 68: Accuracy = 0.00%\n",
            "Epoch 69: Accuracy = 0.00%\n",
            "Epoch 70: Accuracy = 0.00%\n",
            "Epoch 71: Accuracy = 0.00%\n",
            "Epoch 72: Accuracy = 0.00%\n",
            "Epoch 73: Accuracy = 0.00%\n",
            "Epoch 74: Accuracy = 0.00%\n",
            "Epoch 75: Accuracy = 0.00%\n",
            "Epoch 76: Accuracy = 0.00%\n",
            "Epoch 77: Accuracy = 0.00%\n",
            "Epoch 78: Accuracy = 0.00%\n",
            "Epoch 79: Accuracy = 0.00%\n",
            "Epoch 80: Accuracy = 0.00%\n",
            "Epoch 81: Accuracy = 0.00%\n",
            "Epoch 82: Accuracy = 0.00%\n",
            "Epoch 83: Accuracy = 0.00%\n",
            "Epoch 84: Accuracy = 0.00%\n",
            "Epoch 85: Accuracy = 0.00%\n",
            "Epoch 86: Accuracy = 0.00%\n",
            "Epoch 87: Accuracy = 0.00%\n",
            "Epoch 88: Accuracy = 0.00%\n",
            "Epoch 89: Accuracy = 0.00%\n",
            "Epoch 90: Accuracy = 0.00%\n",
            "Epoch 91: Accuracy = 0.00%\n",
            "Epoch 92: Accuracy = 0.00%\n",
            "Epoch 93: Accuracy = 0.00%\n",
            "Epoch 94: Accuracy = 0.00%\n",
            "Epoch 95: Accuracy = 0.00%\n",
            "Epoch 96: Accuracy = 0.00%\n",
            "Epoch 97: Accuracy = 0.00%\n",
            "Epoch 98: Accuracy = 0.00%\n",
            "Epoch 99: Accuracy = 0.00%\n",
            "Epoch 100: Accuracy = 0.00%\n",
            "Final Training Accuracy: 0.0\n",
            "Final Accuracy: 0.00%\n"
          ]
        }
      ],
      "source": [
        "def train_perceptron(X, y, weights, bias, learning_rate=0.1, epochs=100):\n",
        "    \"\"\"\n",
        "    Train perceptron model using the perceptron learning rule.\n",
        "    \"\"\"\n",
        "    n_samples = X.shape[0]\n",
        "\n",
        "    for epoch in range(epochs):\n",
        "        correct_predictions = 0\n",
        "\n",
        "        for i in range(n_samples):\n",
        "            prediction = np.dot(X[i], weights) + bias\n",
        "            y_pred = 1 if prediction >= 0 else 0\n",
        "\n",
        "            if y_pred != y[i]:  # Update weights and bias only if incorrect\n",
        "                update = learning_rate * (y[i] - y_pred)\n",
        "                weights += update * X[i]\n",
        "                bias += update\n",
        "            else:\n",
        "                correct_predictions += 1\n",
        "\n",
        "        accuracy = (correct_predictions / n_samples) * 100\n",
        "        print(f\"Epoch {epoch + 1}: Accuracy = {accuracy:.2f}%\")\n",
        "\n",
        "    return weights, bias, accuracy\n",
        "\n",
        "# Step 5: Train the Model\n",
        "weights, bias, accuracy = train_perceptron(X, y, weights, bias)\n",
        "\n",
        "print(\"Final Training Accuracy:\", accuracy)\n",
        "\n",
        "# Step 6: Evaluate Model\n",
        "y_pred = decision_function(X, weights, bias)\n",
        "final_accuracy = np.mean(y_pred == y) * 100\n",
        "print(f\"Final Accuracy: {final_accuracy:.2f}%\")"
      ]
    },
    {
      "cell_type": "code",
      "execution_count": 37,
      "metadata": {
        "id": "dEF-1nPyWxYI",
        "outputId": "f5beb596-e7f4-4797-fc14-f245001e2c42",
        "colab": {
          "base_uri": "https://localhost:8080/",
          "height": 451
        }
      },
      "outputs": [
        {
          "output_type": "display_data",
          "data": {
            "text/plain": [
              "<Figure size 1000x500 with 10 Axes>"
            ],
            "image/png": "[encoded data removed]"
          },
          "metadata": {}
        }
      ],
      "source": [
        "misclassified_idx = np.where(y_pred != y)[0]\n",
        "if len(misclassified_idx) > 0:\n",
        "    fig, axes = plt.subplots(2, 5, figsize=(10, 5))\n",
        "    for ax, idx in zip(axes.flat, misclassified_idx[:10]):  # Show 10 misclassified images\n",
        "        ax.imshow(X[idx].reshape(28, 28), cmap=\"gray\")\n",
        "        ax.set_title(f\"Pred: {y_pred[idx]}, True: {y[idx]}\")\n",
        "        ax.axis(\"off\")\n",
        "    plt.suptitle(\"Misclassified Images\")\n",
        "    plt.show()\n",
        "else:\n",
        "    print(\"All images were correctly classified!\")\n"
      ]
    }
  ]
}